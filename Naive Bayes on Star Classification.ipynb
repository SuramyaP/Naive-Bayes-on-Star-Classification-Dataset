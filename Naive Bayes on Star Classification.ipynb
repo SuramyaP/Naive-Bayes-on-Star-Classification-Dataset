{
 "cells": [
  {
   "cell_type": "code",
   "execution_count": 1,
   "id": "65ee637f-1f76-4bf2-8779-9fe19b765536",
   "metadata": {
    "tags": []
   },
   "outputs": [],
   "source": [
    "import numpy as np\n",
    "import pandas as pd\n",
    "from sklearn.preprocessing import LabelEncoder\n",
    "from sklearn.model_selection import train_test_split\n",
    "from sklearn.utils import shuffle\n",
    "from sklearn.naive_bayes import CategoricalNB\n",
    "from sklearn.naive_bayes import GaussianNB, MultinomialNB\n",
    "from sklearn.metrics import confusion_matrix\n",
    "from sklearn.metrics import classification_report\n",
    "\n",
    "import matplotlib.pyplot as plt\n",
    "import seaborn as sns"
   ]
  },
  {
   "cell_type": "code",
   "execution_count": 2,
   "id": "1e6e4fac-1add-4855-a5d4-520b834e10d9",
   "metadata": {
    "tags": []
   },
   "outputs": [],
   "source": [
    "df = pd.read_csv('Star_Dataset.csv')"
   ]
  },
  {
   "cell_type": "code",
   "execution_count": 3,
   "id": "f386e3dc-8347-4ae8-930d-3f90921e9812",
   "metadata": {
    "tags": []
   },
   "outputs": [
    {
     "data": {
      "text/html": [
       "<div>\n",
       "<style scoped>\n",
       "    .dataframe tbody tr th:only-of-type {\n",
       "        vertical-align: middle;\n",
       "    }\n",
       "\n",
       "    .dataframe tbody tr th {\n",
       "        vertical-align: top;\n",
       "    }\n",
       "\n",
       "    .dataframe thead th {\n",
       "        text-align: right;\n",
       "    }\n",
       "</style>\n",
       "<table border=\"1\" class=\"dataframe\">\n",
       "  <thead>\n",
       "    <tr style=\"text-align: right;\">\n",
       "      <th></th>\n",
       "      <th>Temperature (K)</th>\n",
       "      <th>Luminosity(L/Lo)</th>\n",
       "      <th>Radius(R/Ro)</th>\n",
       "      <th>Absolute magnitude(Mv)</th>\n",
       "      <th>Star type</th>\n",
       "      <th>Star color</th>\n",
       "      <th>Spectral Class</th>\n",
       "    </tr>\n",
       "  </thead>\n",
       "  <tbody>\n",
       "    <tr>\n",
       "      <th>0</th>\n",
       "      <td>3068</td>\n",
       "      <td>0.002400</td>\n",
       "      <td>0.1700</td>\n",
       "      <td>16.12</td>\n",
       "      <td>0</td>\n",
       "      <td>Red</td>\n",
       "      <td>M</td>\n",
       "    </tr>\n",
       "    <tr>\n",
       "      <th>1</th>\n",
       "      <td>3042</td>\n",
       "      <td>0.000500</td>\n",
       "      <td>0.1542</td>\n",
       "      <td>16.60</td>\n",
       "      <td>0</td>\n",
       "      <td>Red</td>\n",
       "      <td>M</td>\n",
       "    </tr>\n",
       "    <tr>\n",
       "      <th>2</th>\n",
       "      <td>2600</td>\n",
       "      <td>0.000300</td>\n",
       "      <td>0.1020</td>\n",
       "      <td>18.70</td>\n",
       "      <td>0</td>\n",
       "      <td>Red</td>\n",
       "      <td>M</td>\n",
       "    </tr>\n",
       "    <tr>\n",
       "      <th>3</th>\n",
       "      <td>2800</td>\n",
       "      <td>0.000200</td>\n",
       "      <td>0.1600</td>\n",
       "      <td>16.65</td>\n",
       "      <td>0</td>\n",
       "      <td>Red</td>\n",
       "      <td>M</td>\n",
       "    </tr>\n",
       "    <tr>\n",
       "      <th>4</th>\n",
       "      <td>1939</td>\n",
       "      <td>0.000138</td>\n",
       "      <td>0.1030</td>\n",
       "      <td>20.06</td>\n",
       "      <td>0</td>\n",
       "      <td>Red</td>\n",
       "      <td>M</td>\n",
       "    </tr>\n",
       "    <tr>\n",
       "      <th>...</th>\n",
       "      <td>...</td>\n",
       "      <td>...</td>\n",
       "      <td>...</td>\n",
       "      <td>...</td>\n",
       "      <td>...</td>\n",
       "      <td>...</td>\n",
       "      <td>...</td>\n",
       "    </tr>\n",
       "    <tr>\n",
       "      <th>235</th>\n",
       "      <td>38940</td>\n",
       "      <td>374830.000000</td>\n",
       "      <td>1356.0000</td>\n",
       "      <td>-9.93</td>\n",
       "      <td>5</td>\n",
       "      <td>Blue</td>\n",
       "      <td>O</td>\n",
       "    </tr>\n",
       "    <tr>\n",
       "      <th>236</th>\n",
       "      <td>30839</td>\n",
       "      <td>834042.000000</td>\n",
       "      <td>1194.0000</td>\n",
       "      <td>-10.63</td>\n",
       "      <td>5</td>\n",
       "      <td>Blue</td>\n",
       "      <td>O</td>\n",
       "    </tr>\n",
       "    <tr>\n",
       "      <th>237</th>\n",
       "      <td>8829</td>\n",
       "      <td>537493.000000</td>\n",
       "      <td>1423.0000</td>\n",
       "      <td>-10.73</td>\n",
       "      <td>5</td>\n",
       "      <td>White</td>\n",
       "      <td>A</td>\n",
       "    </tr>\n",
       "    <tr>\n",
       "      <th>238</th>\n",
       "      <td>9235</td>\n",
       "      <td>404940.000000</td>\n",
       "      <td>1112.0000</td>\n",
       "      <td>-11.23</td>\n",
       "      <td>5</td>\n",
       "      <td>White</td>\n",
       "      <td>A</td>\n",
       "    </tr>\n",
       "    <tr>\n",
       "      <th>239</th>\n",
       "      <td>37882</td>\n",
       "      <td>294903.000000</td>\n",
       "      <td>1783.0000</td>\n",
       "      <td>-7.80</td>\n",
       "      <td>5</td>\n",
       "      <td>Blue</td>\n",
       "      <td>O</td>\n",
       "    </tr>\n",
       "  </tbody>\n",
       "</table>\n",
       "<p>240 rows × 7 columns</p>\n",
       "</div>"
      ],
      "text/plain": [
       "     Temperature (K)  Luminosity(L/Lo)  Radius(R/Ro)  Absolute magnitude(Mv)  \\\n",
       "0               3068          0.002400        0.1700                   16.12   \n",
       "1               3042          0.000500        0.1542                   16.60   \n",
       "2               2600          0.000300        0.1020                   18.70   \n",
       "3               2800          0.000200        0.1600                   16.65   \n",
       "4               1939          0.000138        0.1030                   20.06   \n",
       "..               ...               ...           ...                     ...   \n",
       "235            38940     374830.000000     1356.0000                   -9.93   \n",
       "236            30839     834042.000000     1194.0000                  -10.63   \n",
       "237             8829     537493.000000     1423.0000                  -10.73   \n",
       "238             9235     404940.000000     1112.0000                  -11.23   \n",
       "239            37882     294903.000000     1783.0000                   -7.80   \n",
       "\n",
       "     Star type Star color Spectral Class  \n",
       "0            0        Red              M  \n",
       "1            0        Red              M  \n",
       "2            0        Red              M  \n",
       "3            0        Red              M  \n",
       "4            0        Red              M  \n",
       "..         ...        ...            ...  \n",
       "235          5       Blue              O  \n",
       "236          5       Blue              O  \n",
       "237          5      White              A  \n",
       "238          5      White              A  \n",
       "239          5       Blue              O  \n",
       "\n",
       "[240 rows x 7 columns]"
      ]
     },
     "execution_count": 3,
     "metadata": {},
     "output_type": "execute_result"
    }
   ],
   "source": [
    "df"
   ]
  },
  {
   "cell_type": "code",
   "execution_count": 4,
   "id": "19c2122c-3840-484d-936c-6bbd211c36cc",
   "metadata": {
    "tags": []
   },
   "outputs": [
    {
     "name": "stdout",
     "output_type": "stream",
     "text": [
      "['Red' 'Blue White' 'White' 'Yellowish White' 'Blue white'\n",
      " 'Pale yellow orange' 'Blue' 'Blue-white' 'Whitish' 'yellow-white'\n",
      " 'Orange' 'White-Yellow' 'white' 'Blue ' 'yellowish' 'Yellowish'\n",
      " 'Orange-Red' 'Blue white ' 'Blue-White']\n"
     ]
    }
   ],
   "source": [
    "unique_values = df['Star color'].unique()\n",
    "\n",
    "print(unique_values)"
   ]
  },
  {
   "cell_type": "code",
   "execution_count": 5,
   "id": "27c7b987-8320-43e4-9213-8d1c7bd50be8",
   "metadata": {
    "tags": []
   },
   "outputs": [],
   "source": [
    "value_mapping = {'Blue White': 'Blue White', 'Whitish': 'White', 'Blue white':'Blue White','Blue-white': 'Blue White','Whitish':'White','Yellowish White':'Yellow White', 'yellow-white': 'Yellow White','White-Yellow':'Yellow White','white':'White', 'Blue ':'Blue', 'yellowish':'Yellow', 'Yellowish':'Yellow','Blue white ':'Blue White', 'Blue-White':'Blue White','Orange-Red':'Orange Red'  }\n",
    "df['Star color'].replace(value_mapping, inplace=True)"
   ]
  },
  {
   "cell_type": "code",
   "execution_count": 6,
   "id": "a6d3b216-03ee-4e9a-bab8-8ee529d91540",
   "metadata": {
    "tags": []
   },
   "outputs": [],
   "source": [
    "x = df['Star type'].value_counts()"
   ]
  },
  {
   "cell_type": "code",
   "execution_count": 7,
   "id": "fe964b59-3cec-4e22-9adb-44b9706ef035",
   "metadata": {
    "tags": []
   },
   "outputs": [
    {
     "data": {
      "text/plain": [
       "0    40\n",
       "1    40\n",
       "2    40\n",
       "3    40\n",
       "4    40\n",
       "5    40\n",
       "Name: Star type, dtype: int64"
      ]
     },
     "execution_count": 7,
     "metadata": {},
     "output_type": "execute_result"
    }
   ],
   "source": [
    "x"
   ]
  },
  {
   "cell_type": "code",
   "execution_count": 97,
   "id": "a3a61716-b662-47c1-ab54-87d43d36dbbe",
   "metadata": {
    "tags": []
   },
   "outputs": [
    {
     "data": {
      "image/png": "[encoded data removed]",
      "text/plain": [
       "<Figure size 800x400 with 1 Axes>"
      ]
     },
     "metadata": {},
     "output_type": "display_data"
    }
   ],
   "source": [
    "plt.figure(figsize=(8,4))  \n",
    "sns.countplot(x=\"Star type\", data=df)\n",
    "plt.title('CountPlot of Star Dataset')\n",
    "plt.xticks(ticks = [0,1,2,3,4,5], labels = ['Red Dwarf', 'Brown Dwarf', 'White Dwarf', 'Main Sequence' , 'SuperGiants', 'HyperGiants'])\n",
    "plt.savefig('1.png')\n",
    "plt.show()\n"
   ]
  },
  {
   "cell_type": "code",
   "execution_count": 9,
   "id": "471062f7-8971-4d48-9dc5-af9541c63c7e",
   "metadata": {
    "tags": []
   },
   "outputs": [],
   "source": [
    "star_type_by_color = df.groupby('Star color')['Star type'].mean()"
   ]
  },
  {
   "cell_type": "code",
   "execution_count": 10,
   "id": "4271f15c-5a80-44a1-8c86-b42e4a336dbf",
   "metadata": {
    "tags": []
   },
   "outputs": [
    {
     "data": {
      "text/plain": [
       "Star color\n",
       "Blue                  3.571429\n",
       "Blue White            2.951220\n",
       "Orange                5.000000\n",
       "Orange Red            3.000000\n",
       "Pale yellow orange    2.000000\n",
       "Red                   1.705357\n",
       "White                 2.666667\n",
       "Yellow                3.000000\n",
       "Yellow White          2.666667\n",
       "Name: Star type, dtype: float64"
      ]
     },
     "execution_count": 10,
     "metadata": {},
     "output_type": "execute_result"
    }
   ],
   "source": [
    "star_type_by_color"
   ]
  },
  {
   "cell_type": "code",
   "execution_count": 11,
   "id": "2f460395-e688-488e-9134-f4d3eabd2383",
   "metadata": {
    "tags": []
   },
   "outputs": [
    {
     "data": {
      "text/plain": [
       "Star color          Star type\n",
       "Blue                2            13\n",
       "                    3             5\n",
       "                    4            31\n",
       "                    5             7\n",
       "Blue White          2            14\n",
       "                    3            21\n",
       "                    5             6\n",
       "Orange              5             2\n",
       "Orange Red          3             1\n",
       "Pale yellow orange  2             1\n",
       "Red                 0            40\n",
       "                    1            40\n",
       "                    4             9\n",
       "                    5            23\n",
       "White               2             8\n",
       "                    3             2\n",
       "                    5             2\n",
       "Yellow              3             3\n",
       "Yellow White        2             4\n",
       "                    3             8\n",
       "dtype: int64"
      ]
     },
     "execution_count": 11,
     "metadata": {},
     "output_type": "execute_result"
    }
   ],
   "source": [
    "df.groupby(['Star color','Star type']).size()"
   ]
  },
  {
   "cell_type": "code",
   "execution_count": 12,
   "id": "585c9eec-ba9b-4253-b76f-3da39a53fc2a",
   "metadata": {
    "tags": []
   },
   "outputs": [],
   "source": [
    "table = pd.pivot_table(df,values ='Star type',index =['Star color'], columns = ['Spectral Class'] )"
   ]
  },
  {
   "cell_type": "code",
   "execution_count": 13,
   "id": "fd193589-b508-478f-a470-c1ccf84e4dfd",
   "metadata": {
    "tags": []
   },
   "outputs": [
    {
     "data": {
      "text/html": [
       "<div>\n",
       "<style scoped>\n",
       "    .dataframe tbody tr th:only-of-type {\n",
       "        vertical-align: middle;\n",
       "    }\n",
       "\n",
       "    .dataframe tbody tr th {\n",
       "        vertical-align: top;\n",
       "    }\n",
       "\n",
       "    .dataframe thead th {\n",
       "        text-align: right;\n",
       "    }\n",
       "</style>\n",
       "<table border=\"1\" class=\"dataframe\">\n",
       "  <thead>\n",
       "    <tr style=\"text-align: right;\">\n",
       "      <th>Spectral Class</th>\n",
       "      <th>A</th>\n",
       "      <th>B</th>\n",
       "      <th>F</th>\n",
       "      <th>G</th>\n",
       "      <th>K</th>\n",
       "      <th>M</th>\n",
       "      <th>O</th>\n",
       "    </tr>\n",
       "    <tr>\n",
       "      <th>Star color</th>\n",
       "      <th></th>\n",
       "      <th></th>\n",
       "      <th></th>\n",
       "      <th></th>\n",
       "      <th></th>\n",
       "      <th></th>\n",
       "      <th></th>\n",
       "    </tr>\n",
       "  </thead>\n",
       "  <tbody>\n",
       "    <tr>\n",
       "      <th>Blue</th>\n",
       "      <td>NaN</td>\n",
       "      <td>2.437500</td>\n",
       "      <td>NaN</td>\n",
       "      <td>NaN</td>\n",
       "      <td>NaN</td>\n",
       "      <td>NaN</td>\n",
       "      <td>4.025</td>\n",
       "    </tr>\n",
       "    <tr>\n",
       "      <th>Blue White</th>\n",
       "      <td>2.75</td>\n",
       "      <td>3.034483</td>\n",
       "      <td>NaN</td>\n",
       "      <td>NaN</td>\n",
       "      <td>NaN</td>\n",
       "      <td>NaN</td>\n",
       "      <td>NaN</td>\n",
       "    </tr>\n",
       "    <tr>\n",
       "      <th>Orange</th>\n",
       "      <td>NaN</td>\n",
       "      <td>NaN</td>\n",
       "      <td>NaN</td>\n",
       "      <td>NaN</td>\n",
       "      <td>5.0</td>\n",
       "      <td>5.000000</td>\n",
       "      <td>NaN</td>\n",
       "    </tr>\n",
       "    <tr>\n",
       "      <th>Orange Red</th>\n",
       "      <td>NaN</td>\n",
       "      <td>NaN</td>\n",
       "      <td>NaN</td>\n",
       "      <td>NaN</td>\n",
       "      <td>3.0</td>\n",
       "      <td>NaN</td>\n",
       "      <td>NaN</td>\n",
       "    </tr>\n",
       "    <tr>\n",
       "      <th>Pale yellow orange</th>\n",
       "      <td>NaN</td>\n",
       "      <td>NaN</td>\n",
       "      <td>2.000000</td>\n",
       "      <td>NaN</td>\n",
       "      <td>NaN</td>\n",
       "      <td>NaN</td>\n",
       "      <td>NaN</td>\n",
       "    </tr>\n",
       "    <tr>\n",
       "      <th>Red</th>\n",
       "      <td>NaN</td>\n",
       "      <td>NaN</td>\n",
       "      <td>NaN</td>\n",
       "      <td>5.0</td>\n",
       "      <td>5.0</td>\n",
       "      <td>1.645455</td>\n",
       "      <td>NaN</td>\n",
       "    </tr>\n",
       "    <tr>\n",
       "      <th>White</th>\n",
       "      <td>3.00</td>\n",
       "      <td>3.000000</td>\n",
       "      <td>2.000000</td>\n",
       "      <td>NaN</td>\n",
       "      <td>NaN</td>\n",
       "      <td>NaN</td>\n",
       "      <td>NaN</td>\n",
       "    </tr>\n",
       "    <tr>\n",
       "      <th>Yellow</th>\n",
       "      <td>NaN</td>\n",
       "      <td>NaN</td>\n",
       "      <td>NaN</td>\n",
       "      <td>NaN</td>\n",
       "      <td>3.0</td>\n",
       "      <td>NaN</td>\n",
       "      <td>NaN</td>\n",
       "    </tr>\n",
       "    <tr>\n",
       "      <th>Yellow White</th>\n",
       "      <td>NaN</td>\n",
       "      <td>NaN</td>\n",
       "      <td>2.666667</td>\n",
       "      <td>NaN</td>\n",
       "      <td>NaN</td>\n",
       "      <td>NaN</td>\n",
       "      <td>NaN</td>\n",
       "    </tr>\n",
       "  </tbody>\n",
       "</table>\n",
       "</div>"
      ],
      "text/plain": [
       "Spectral Class         A         B         F    G    K         M      O\n",
       "Star color                                                             \n",
       "Blue                 NaN  2.437500       NaN  NaN  NaN       NaN  4.025\n",
       "Blue White          2.75  3.034483       NaN  NaN  NaN       NaN    NaN\n",
       "Orange               NaN       NaN       NaN  NaN  5.0  5.000000    NaN\n",
       "Orange Red           NaN       NaN       NaN  NaN  3.0       NaN    NaN\n",
       "Pale yellow orange   NaN       NaN  2.000000  NaN  NaN       NaN    NaN\n",
       "Red                  NaN       NaN       NaN  5.0  5.0  1.645455    NaN\n",
       "White               3.00  3.000000  2.000000  NaN  NaN       NaN    NaN\n",
       "Yellow               NaN       NaN       NaN  NaN  3.0       NaN    NaN\n",
       "Yellow White         NaN       NaN  2.666667  NaN  NaN       NaN    NaN"
      ]
     },
     "execution_count": 13,
     "metadata": {},
     "output_type": "execute_result"
    }
   ],
   "source": [
    "table"
   ]
  },
  {
   "cell_type": "code",
   "execution_count": 99,
   "id": "5b6d7183-b46a-49d2-9561-9ac753ceae42",
   "metadata": {
    "tags": []
   },
   "outputs": [
    {
     "data": {
      "image/png": "[encoded data removed]",
      "text/plain": [
       "<Figure size 640x480 with 1 Axes>"
      ]
     },
     "metadata": {},
     "output_type": "display_data"
    }
   ],
   "source": [
    "table.plot.barh()\n",
    "plt.savefig('2.png')\n",
    "plt.title('Star Type Rate By Star Color And Spectral Class')\n",
    "plt.show()"
   ]
  },
  {
   "cell_type": "code",
   "execution_count": 100,
   "id": "80ac5cde-93e0-4418-ba06-f94f1836ad89",
   "metadata": {
    "tags": []
   },
   "outputs": [],
   "source": [
    "star_type_by_specclass = df.groupby('Spectral Class')['Star type'].mean()"
   ]
  },
  {
   "cell_type": "code",
   "execution_count": 101,
   "id": "250db815-99ca-4a83-be6a-68890b6d9372",
   "metadata": {
    "tags": []
   },
   "outputs": [
    {
     "data": {
      "text/plain": [
       "Spectral Class\n",
       "A    2.842105\n",
       "B    2.826087\n",
       "F    2.470588\n",
       "G    5.000000\n",
       "K    3.666667\n",
       "M    1.675676\n",
       "O    4.025000\n",
       "Name: Star type, dtype: float64"
      ]
     },
     "execution_count": 101,
     "metadata": {},
     "output_type": "execute_result"
    }
   ],
   "source": [
    "star_type_by_specclass"
   ]
  },
  {
   "cell_type": "code",
   "execution_count": 102,
   "id": "ebb448d5-67f7-420a-bfd9-e9c1c9c36ec4",
   "metadata": {
    "tags": []
   },
   "outputs": [
    {
     "data": {
      "text/plain": [
       "Spectral Class  Star type\n",
       "A               2             7\n",
       "                3            10\n",
       "                5             2\n",
       "B               2            24\n",
       "                3            13\n",
       "                4             2\n",
       "                5             7\n",
       "F               2             9\n",
       "                3             8\n",
       "G               5             1\n",
       "K               3             4\n",
       "                5             2\n",
       "M               0            40\n",
       "                1            40\n",
       "                4             9\n",
       "                5            22\n",
       "O               3             5\n",
       "                4            29\n",
       "                5             6\n",
       "dtype: int64"
      ]
     },
     "execution_count": 102,
     "metadata": {},
     "output_type": "execute_result"
    }
   ],
   "source": [
    "df.groupby(['Spectral Class','Star type']).size()"
   ]
  },
  {
   "cell_type": "code",
   "execution_count": 103,
   "id": "6d80b32d-87ef-4ea9-b51c-d6c4328bc105",
   "metadata": {
    "tags": []
   },
   "outputs": [
    {
     "data": {
      "text/plain": [
       "40000"
      ]
     },
     "execution_count": 103,
     "metadata": {},
     "output_type": "execute_result"
    }
   ],
   "source": [
    "df['Temperature (K)'].max() "
   ]
  },
  {
   "cell_type": "code",
   "execution_count": 104,
   "id": "2cf05d5c-bd1f-4742-8d20-c81f06b9522a",
   "metadata": {
    "tags": []
   },
   "outputs": [
    {
     "data": {
      "text/plain": [
       "1939"
      ]
     },
     "execution_count": 104,
     "metadata": {},
     "output_type": "execute_result"
    }
   ],
   "source": [
    "df['Temperature (K)'].min()"
   ]
  },
  {
   "cell_type": "code",
   "execution_count": 105,
   "id": "94d54a83-e40e-418c-bd2a-cb62a84baa50",
   "metadata": {
    "tags": []
   },
   "outputs": [],
   "source": [
    "df['Temperature Range'] = pd.cut(df['Temperature (K)'], bins=[0, 8000, 16000, 24000 , 32000, 40000], labels=['0 - 8000', '8001-16000','16001-24000', '24001-32000', '32001-40000'])"
   ]
  },
  {
   "cell_type": "code",
   "execution_count": 106,
   "id": "0091349e-374b-481f-a154-4ab710c3d23e",
   "metadata": {
    "tags": []
   },
   "outputs": [
    {
     "data": {
      "text/html": [
       "<div>\n",
       "<style scoped>\n",
       "    .dataframe tbody tr th:only-of-type {\n",
       "        vertical-align: middle;\n",
       "    }\n",
       "\n",
       "    .dataframe tbody tr th {\n",
       "        vertical-align: top;\n",
       "    }\n",
       "\n",
       "    .dataframe thead th {\n",
       "        text-align: right;\n",
       "    }\n",
       "</style>\n",
       "<table border=\"1\" class=\"dataframe\">\n",
       "  <thead>\n",
       "    <tr style=\"text-align: right;\">\n",
       "      <th></th>\n",
       "      <th>Temperature (K)</th>\n",
       "      <th>Luminosity(L/Lo)</th>\n",
       "      <th>Radius(R/Ro)</th>\n",
       "      <th>Absolute magnitude(Mv)</th>\n",
       "      <th>Star type</th>\n",
       "      <th>Star color</th>\n",
       "      <th>Spectral Class</th>\n",
       "      <th>Temperature Range</th>\n",
       "    </tr>\n",
       "  </thead>\n",
       "  <tbody>\n",
       "    <tr>\n",
       "      <th>0</th>\n",
       "      <td>3068</td>\n",
       "      <td>0.002400</td>\n",
       "      <td>0.1700</td>\n",
       "      <td>16.12</td>\n",
       "      <td>0</td>\n",
       "      <td>Red</td>\n",
       "      <td>M</td>\n",
       "      <td>0 - 8000</td>\n",
       "    </tr>\n",
       "    <tr>\n",
       "      <th>1</th>\n",
       "      <td>3042</td>\n",
       "      <td>0.000500</td>\n",
       "      <td>0.1542</td>\n",
       "      <td>16.60</td>\n",
       "      <td>0</td>\n",
       "      <td>Red</td>\n",
       "      <td>M</td>\n",
       "      <td>0 - 8000</td>\n",
       "    </tr>\n",
       "    <tr>\n",
       "      <th>2</th>\n",
       "      <td>2600</td>\n",
       "      <td>0.000300</td>\n",
       "      <td>0.1020</td>\n",
       "      <td>18.70</td>\n",
       "      <td>0</td>\n",
       "      <td>Red</td>\n",
       "      <td>M</td>\n",
       "      <td>0 - 8000</td>\n",
       "    </tr>\n",
       "    <tr>\n",
       "      <th>3</th>\n",
       "      <td>2800</td>\n",
       "      <td>0.000200</td>\n",
       "      <td>0.1600</td>\n",
       "      <td>16.65</td>\n",
       "      <td>0</td>\n",
       "      <td>Red</td>\n",
       "      <td>M</td>\n",
       "      <td>0 - 8000</td>\n",
       "    </tr>\n",
       "    <tr>\n",
       "      <th>4</th>\n",
       "      <td>1939</td>\n",
       "      <td>0.000138</td>\n",
       "      <td>0.1030</td>\n",
       "      <td>20.06</td>\n",
       "      <td>0</td>\n",
       "      <td>Red</td>\n",
       "      <td>M</td>\n",
       "      <td>0 - 8000</td>\n",
       "    </tr>\n",
       "    <tr>\n",
       "      <th>...</th>\n",
       "      <td>...</td>\n",
       "      <td>...</td>\n",
       "      <td>...</td>\n",
       "      <td>...</td>\n",
       "      <td>...</td>\n",
       "      <td>...</td>\n",
       "      <td>...</td>\n",
       "      <td>...</td>\n",
       "    </tr>\n",
       "    <tr>\n",
       "      <th>235</th>\n",
       "      <td>38940</td>\n",
       "      <td>374830.000000</td>\n",
       "      <td>1356.0000</td>\n",
       "      <td>-9.93</td>\n",
       "      <td>5</td>\n",
       "      <td>Blue</td>\n",
       "      <td>O</td>\n",
       "      <td>32001-40000</td>\n",
       "    </tr>\n",
       "    <tr>\n",
       "      <th>236</th>\n",
       "      <td>30839</td>\n",
       "      <td>834042.000000</td>\n",
       "      <td>1194.0000</td>\n",
       "      <td>-10.63</td>\n",
       "      <td>5</td>\n",
       "      <td>Blue</td>\n",
       "      <td>O</td>\n",
       "      <td>24001-32000</td>\n",
       "    </tr>\n",
       "    <tr>\n",
       "      <th>237</th>\n",
       "      <td>8829</td>\n",
       "      <td>537493.000000</td>\n",
       "      <td>1423.0000</td>\n",
       "      <td>-10.73</td>\n",
       "      <td>5</td>\n",
       "      <td>White</td>\n",
       "      <td>A</td>\n",
       "      <td>8001-16000</td>\n",
       "    </tr>\n",
       "    <tr>\n",
       "      <th>238</th>\n",
       "      <td>9235</td>\n",
       "      <td>404940.000000</td>\n",
       "      <td>1112.0000</td>\n",
       "      <td>-11.23</td>\n",
       "      <td>5</td>\n",
       "      <td>White</td>\n",
       "      <td>A</td>\n",
       "      <td>8001-16000</td>\n",
       "    </tr>\n",
       "    <tr>\n",
       "      <th>239</th>\n",
       "      <td>37882</td>\n",
       "      <td>294903.000000</td>\n",
       "      <td>1783.0000</td>\n",
       "      <td>-7.80</td>\n",
       "      <td>5</td>\n",
       "      <td>Blue</td>\n",
       "      <td>O</td>\n",
       "      <td>32001-40000</td>\n",
       "    </tr>\n",
       "  </tbody>\n",
       "</table>\n",
       "<p>240 rows × 8 columns</p>\n",
       "</div>"
      ],
      "text/plain": [
       "     Temperature (K)  Luminosity(L/Lo)  Radius(R/Ro)  Absolute magnitude(Mv)  \\\n",
       "0               3068          0.002400        0.1700                   16.12   \n",
       "1               3042          0.000500        0.1542                   16.60   \n",
       "2               2600          0.000300        0.1020                   18.70   \n",
       "3               2800          0.000200        0.1600                   16.65   \n",
       "4               1939          0.000138        0.1030                   20.06   \n",
       "..               ...               ...           ...                     ...   \n",
       "235            38940     374830.000000     1356.0000                   -9.93   \n",
       "236            30839     834042.000000     1194.0000                  -10.63   \n",
       "237             8829     537493.000000     1423.0000                  -10.73   \n",
       "238             9235     404940.000000     1112.0000                  -11.23   \n",
       "239            37882     294903.000000     1783.0000                   -7.80   \n",
       "\n",
       "     Star type Star color Spectral Class Temperature Range  \n",
       "0            0        Red              M          0 - 8000  \n",
       "1            0        Red              M          0 - 8000  \n",
       "2            0        Red              M          0 - 8000  \n",
       "3            0        Red              M          0 - 8000  \n",
       "4            0        Red              M          0 - 8000  \n",
       "..         ...        ...            ...               ...  \n",
       "235          5       Blue              O       32001-40000  \n",
       "236          5       Blue              O       24001-32000  \n",
       "237          5      White              A        8001-16000  \n",
       "238          5      White              A        8001-16000  \n",
       "239          5       Blue              O       32001-40000  \n",
       "\n",
       "[240 rows x 8 columns]"
      ]
     },
     "execution_count": 106,
     "metadata": {},
     "output_type": "execute_result"
    }
   ],
   "source": [
    "df"
   ]
  },
  {
   "cell_type": "code",
   "execution_count": 107,
   "id": "59a6301d-4978-4ae3-b8b4-dd4b36537598",
   "metadata": {
    "tags": []
   },
   "outputs": [],
   "source": [
    "newtable = pd.pivot_table(df,values ='Star type',index =['Star color', 'Temperature Range'], columns = ['Spectral Class'] )"
   ]
  },
  {
   "cell_type": "code",
   "execution_count": 108,
   "id": "20e7e50d-57cc-4a1f-a8e6-dc0b9268f2bf",
   "metadata": {
    "tags": []
   },
   "outputs": [
    {
     "data": {
      "text/html": [
       "<div>\n",
       "<style scoped>\n",
       "    .dataframe tbody tr th:only-of-type {\n",
       "        vertical-align: middle;\n",
       "    }\n",
       "\n",
       "    .dataframe tbody tr th {\n",
       "        vertical-align: top;\n",
       "    }\n",
       "\n",
       "    .dataframe thead th {\n",
       "        text-align: right;\n",
       "    }\n",
       "</style>\n",
       "<table border=\"1\" class=\"dataframe\">\n",
       "  <thead>\n",
       "    <tr style=\"text-align: right;\">\n",
       "      <th></th>\n",
       "      <th>Spectral Class</th>\n",
       "      <th>A</th>\n",
       "      <th>B</th>\n",
       "      <th>F</th>\n",
       "      <th>G</th>\n",
       "      <th>K</th>\n",
       "      <th>M</th>\n",
       "      <th>O</th>\n",
       "    </tr>\n",
       "    <tr>\n",
       "      <th>Star color</th>\n",
       "      <th>Temperature Range</th>\n",
       "      <th></th>\n",
       "      <th></th>\n",
       "      <th></th>\n",
       "      <th></th>\n",
       "      <th></th>\n",
       "      <th></th>\n",
       "      <th></th>\n",
       "    </tr>\n",
       "  </thead>\n",
       "  <tbody>\n",
       "    <tr>\n",
       "      <th rowspan=\"5\" valign=\"top\">Blue</th>\n",
       "      <th>0 - 8000</th>\n",
       "      <td>NaN</td>\n",
       "      <td>NaN</td>\n",
       "      <td>NaN</td>\n",
       "      <td>NaN</td>\n",
       "      <td>NaN</td>\n",
       "      <td>NaN</td>\n",
       "      <td>4.000000</td>\n",
       "    </tr>\n",
       "    <tr>\n",
       "      <th>8001-16000</th>\n",
       "      <td>NaN</td>\n",
       "      <td>2.000000</td>\n",
       "      <td>NaN</td>\n",
       "      <td>NaN</td>\n",
       "      <td>NaN</td>\n",
       "      <td>NaN</td>\n",
       "      <td>4.000000</td>\n",
       "    </tr>\n",
       "    <tr>\n",
       "      <th>16001-24000</th>\n",
       "      <td>NaN</td>\n",
       "      <td>2.000000</td>\n",
       "      <td>NaN</td>\n",
       "      <td>NaN</td>\n",
       "      <td>NaN</td>\n",
       "      <td>NaN</td>\n",
       "      <td>4.090909</td>\n",
       "    </tr>\n",
       "    <tr>\n",
       "      <th>24001-32000</th>\n",
       "      <td>NaN</td>\n",
       "      <td>3.500000</td>\n",
       "      <td>NaN</td>\n",
       "      <td>NaN</td>\n",
       "      <td>NaN</td>\n",
       "      <td>NaN</td>\n",
       "      <td>4.200000</td>\n",
       "    </tr>\n",
       "    <tr>\n",
       "      <th>32001-40000</th>\n",
       "      <td>NaN</td>\n",
       "      <td>4.000000</td>\n",
       "      <td>NaN</td>\n",
       "      <td>NaN</td>\n",
       "      <td>NaN</td>\n",
       "      <td>NaN</td>\n",
       "      <td>3.909091</td>\n",
       "    </tr>\n",
       "    <tr>\n",
       "      <th rowspan=\"3\" valign=\"top\">Blue White</th>\n",
       "      <th>8001-16000</th>\n",
       "      <td>2.75</td>\n",
       "      <td>2.636364</td>\n",
       "      <td>NaN</td>\n",
       "      <td>NaN</td>\n",
       "      <td>NaN</td>\n",
       "      <td>NaN</td>\n",
       "      <td>NaN</td>\n",
       "    </tr>\n",
       "    <tr>\n",
       "      <th>16001-24000</th>\n",
       "      <td>NaN</td>\n",
       "      <td>3.000000</td>\n",
       "      <td>NaN</td>\n",
       "      <td>NaN</td>\n",
       "      <td>NaN</td>\n",
       "      <td>NaN</td>\n",
       "      <td>NaN</td>\n",
       "    </tr>\n",
       "    <tr>\n",
       "      <th>24001-32000</th>\n",
       "      <td>NaN</td>\n",
       "      <td>3.555556</td>\n",
       "      <td>NaN</td>\n",
       "      <td>NaN</td>\n",
       "      <td>NaN</td>\n",
       "      <td>NaN</td>\n",
       "      <td>NaN</td>\n",
       "    </tr>\n",
       "    <tr>\n",
       "      <th>Orange</th>\n",
       "      <th>0 - 8000</th>\n",
       "      <td>NaN</td>\n",
       "      <td>NaN</td>\n",
       "      <td>NaN</td>\n",
       "      <td>NaN</td>\n",
       "      <td>5.0</td>\n",
       "      <td>5.000000</td>\n",
       "      <td>NaN</td>\n",
       "    </tr>\n",
       "    <tr>\n",
       "      <th>Orange Red</th>\n",
       "      <th>0 - 8000</th>\n",
       "      <td>NaN</td>\n",
       "      <td>NaN</td>\n",
       "      <td>NaN</td>\n",
       "      <td>NaN</td>\n",
       "      <td>3.0</td>\n",
       "      <td>NaN</td>\n",
       "      <td>NaN</td>\n",
       "    </tr>\n",
       "    <tr>\n",
       "      <th>Pale yellow orange</th>\n",
       "      <th>0 - 8000</th>\n",
       "      <td>NaN</td>\n",
       "      <td>NaN</td>\n",
       "      <td>2.000000</td>\n",
       "      <td>NaN</td>\n",
       "      <td>NaN</td>\n",
       "      <td>NaN</td>\n",
       "      <td>NaN</td>\n",
       "    </tr>\n",
       "    <tr>\n",
       "      <th>Red</th>\n",
       "      <th>0 - 8000</th>\n",
       "      <td>NaN</td>\n",
       "      <td>NaN</td>\n",
       "      <td>NaN</td>\n",
       "      <td>5.0</td>\n",
       "      <td>5.0</td>\n",
       "      <td>1.645455</td>\n",
       "      <td>NaN</td>\n",
       "    </tr>\n",
       "    <tr>\n",
       "      <th rowspan=\"2\" valign=\"top\">White</th>\n",
       "      <th>0 - 8000</th>\n",
       "      <td>2.00</td>\n",
       "      <td>NaN</td>\n",
       "      <td>2.000000</td>\n",
       "      <td>NaN</td>\n",
       "      <td>NaN</td>\n",
       "      <td>NaN</td>\n",
       "      <td>NaN</td>\n",
       "    </tr>\n",
       "    <tr>\n",
       "      <th>8001-16000</th>\n",
       "      <td>3.40</td>\n",
       "      <td>3.000000</td>\n",
       "      <td>2.000000</td>\n",
       "      <td>NaN</td>\n",
       "      <td>NaN</td>\n",
       "      <td>NaN</td>\n",
       "      <td>NaN</td>\n",
       "    </tr>\n",
       "    <tr>\n",
       "      <th>Yellow</th>\n",
       "      <th>0 - 8000</th>\n",
       "      <td>NaN</td>\n",
       "      <td>NaN</td>\n",
       "      <td>NaN</td>\n",
       "      <td>NaN</td>\n",
       "      <td>3.0</td>\n",
       "      <td>NaN</td>\n",
       "      <td>NaN</td>\n",
       "    </tr>\n",
       "    <tr>\n",
       "      <th rowspan=\"2\" valign=\"top\">Yellow White</th>\n",
       "      <th>0 - 8000</th>\n",
       "      <td>NaN</td>\n",
       "      <td>NaN</td>\n",
       "      <td>2.777778</td>\n",
       "      <td>NaN</td>\n",
       "      <td>NaN</td>\n",
       "      <td>NaN</td>\n",
       "      <td>NaN</td>\n",
       "    </tr>\n",
       "    <tr>\n",
       "      <th>8001-16000</th>\n",
       "      <td>NaN</td>\n",
       "      <td>NaN</td>\n",
       "      <td>2.333333</td>\n",
       "      <td>NaN</td>\n",
       "      <td>NaN</td>\n",
       "      <td>NaN</td>\n",
       "      <td>NaN</td>\n",
       "    </tr>\n",
       "  </tbody>\n",
       "</table>\n",
       "</div>"
      ],
      "text/plain": [
       "Spectral Class                           A         B         F    G    K  \\\n",
       "Star color         Temperature Range                                       \n",
       "Blue               0 - 8000            NaN       NaN       NaN  NaN  NaN   \n",
       "                   8001-16000          NaN  2.000000       NaN  NaN  NaN   \n",
       "                   16001-24000         NaN  2.000000       NaN  NaN  NaN   \n",
       "                   24001-32000         NaN  3.500000       NaN  NaN  NaN   \n",
       "                   32001-40000         NaN  4.000000       NaN  NaN  NaN   \n",
       "Blue White         8001-16000         2.75  2.636364       NaN  NaN  NaN   \n",
       "                   16001-24000         NaN  3.000000       NaN  NaN  NaN   \n",
       "                   24001-32000         NaN  3.555556       NaN  NaN  NaN   \n",
       "Orange             0 - 8000            NaN       NaN       NaN  NaN  5.0   \n",
       "Orange Red         0 - 8000            NaN       NaN       NaN  NaN  3.0   \n",
       "Pale yellow orange 0 - 8000            NaN       NaN  2.000000  NaN  NaN   \n",
       "Red                0 - 8000            NaN       NaN       NaN  5.0  5.0   \n",
       "White              0 - 8000           2.00       NaN  2.000000  NaN  NaN   \n",
       "                   8001-16000         3.40  3.000000  2.000000  NaN  NaN   \n",
       "Yellow             0 - 8000            NaN       NaN       NaN  NaN  3.0   \n",
       "Yellow White       0 - 8000            NaN       NaN  2.777778  NaN  NaN   \n",
       "                   8001-16000          NaN       NaN  2.333333  NaN  NaN   \n",
       "\n",
       "Spectral Class                               M         O  \n",
       "Star color         Temperature Range                      \n",
       "Blue               0 - 8000                NaN  4.000000  \n",
       "                   8001-16000              NaN  4.000000  \n",
       "                   16001-24000             NaN  4.090909  \n",
       "                   24001-32000             NaN  4.200000  \n",
       "                   32001-40000             NaN  3.909091  \n",
       "Blue White         8001-16000              NaN       NaN  \n",
       "                   16001-24000             NaN       NaN  \n",
       "                   24001-32000             NaN       NaN  \n",
       "Orange             0 - 8000           5.000000       NaN  \n",
       "Orange Red         0 - 8000                NaN       NaN  \n",
       "Pale yellow orange 0 - 8000                NaN       NaN  \n",
       "Red                0 - 8000           1.645455       NaN  \n",
       "White              0 - 8000                NaN       NaN  \n",
       "                   8001-16000              NaN       NaN  \n",
       "Yellow             0 - 8000                NaN       NaN  \n",
       "Yellow White       0 - 8000                NaN       NaN  \n",
       "                   8001-16000              NaN       NaN  "
      ]
     },
     "execution_count": 108,
     "metadata": {},
     "output_type": "execute_result"
    }
   ],
   "source": [
    "newtable"
   ]
  },
  {
   "cell_type": "code",
   "execution_count": 109,
   "id": "f38179ee-b123-490f-a709-5aa9e7fbebae",
   "metadata": {
    "tags": []
   },
   "outputs": [
    {
     "data": {
      "image/png": "[encoded data removed]",
      "text/plain": [
       "<Figure size 640x480 with 1 Axes>"
      ]
     },
     "metadata": {},
     "output_type": "display_data"
    }
   ],
   "source": [
    "plt.scatter(df['Temperature (K)'], df['Star color'])\n",
    "plt.title('Visualization of Temperature vs Star Color')\n",
    "plt.savefig('3.png')\n"
   ]
  },
  {
   "cell_type": "code",
   "execution_count": 110,
   "id": "b044cc3f-d0bc-4247-a77b-d0198824f156",
   "metadata": {
    "tags": []
   },
   "outputs": [
    {
     "data": {
      "image/png": "[encoded data removed]",
      "text/plain": [
       "<Figure size 640x480 with 1 Axes>"
      ]
     },
     "metadata": {},
     "output_type": "display_data"
    }
   ],
   "source": [
    "plt.scatter(df['Temperature (K)'], df['Spectral Class'])\n",
    "plt.title('Visualization of Temperature vs Spectral Class')\n",
    "plt.savefig('4.png')"
   ]
  },
  {
   "cell_type": "code",
   "execution_count": 111,
   "id": "a8753d47-9b60-48ce-a3cc-88f35646459b",
   "metadata": {
    "tags": []
   },
   "outputs": [
    {
     "data": {
      "image/png": "[encoded data removed]",
      "text/plain": [
       "<Figure size 640x480 with 1 Axes>"
      ]
     },
     "metadata": {},
     "output_type": "display_data"
    }
   ],
   "source": [
    "plt.scatter(df['Luminosity(L/Lo)'], df['Star color'])\n",
    "plt.title('Visualization of Liminosity vs Star Color')\n",
    "plt.savefig('5.png')"
   ]
  },
  {
   "cell_type": "code",
   "execution_count": null,
   "id": "34e0d1b0-8277-4756-b722-37defcc4e215",
   "metadata": {},
   "outputs": [],
   "source": []
  },
  {
   "cell_type": "code",
   "execution_count": 112,
   "id": "cb244e2a-5835-4edb-8291-c59db11cfce5",
   "metadata": {
    "tags": []
   },
   "outputs": [],
   "source": [
    "nf = df.copy()\n"
   ]
  },
  {
   "cell_type": "code",
   "execution_count": 113,
   "id": "69ae3349-ec82-41da-bed2-e4ae4e005e79",
   "metadata": {
    "tags": []
   },
   "outputs": [
    {
     "data": {
      "text/html": [
       "<div>\n",
       "<style scoped>\n",
       "    .dataframe tbody tr th:only-of-type {\n",
       "        vertical-align: middle;\n",
       "    }\n",
       "\n",
       "    .dataframe tbody tr th {\n",
       "        vertical-align: top;\n",
       "    }\n",
       "\n",
       "    .dataframe thead th {\n",
       "        text-align: right;\n",
       "    }\n",
       "</style>\n",
       "<table border=\"1\" class=\"dataframe\">\n",
       "  <thead>\n",
       "    <tr style=\"text-align: right;\">\n",
       "      <th></th>\n",
       "      <th>Temperature (K)</th>\n",
       "      <th>Luminosity(L/Lo)</th>\n",
       "      <th>Radius(R/Ro)</th>\n",
       "      <th>Absolute magnitude(Mv)</th>\n",
       "      <th>Star type</th>\n",
       "      <th>Star color</th>\n",
       "      <th>Spectral Class</th>\n",
       "      <th>Temperature Range</th>\n",
       "    </tr>\n",
       "  </thead>\n",
       "  <tbody>\n",
       "    <tr>\n",
       "      <th>0</th>\n",
       "      <td>3068</td>\n",
       "      <td>0.002400</td>\n",
       "      <td>0.1700</td>\n",
       "      <td>16.12</td>\n",
       "      <td>0</td>\n",
       "      <td>Red</td>\n",
       "      <td>M</td>\n",
       "      <td>0 - 8000</td>\n",
       "    </tr>\n",
       "    <tr>\n",
       "      <th>1</th>\n",
       "      <td>3042</td>\n",
       "      <td>0.000500</td>\n",
       "      <td>0.1542</td>\n",
       "      <td>16.60</td>\n",
       "      <td>0</td>\n",
       "      <td>Red</td>\n",
       "      <td>M</td>\n",
       "      <td>0 - 8000</td>\n",
       "    </tr>\n",
       "    <tr>\n",
       "      <th>2</th>\n",
       "      <td>2600</td>\n",
       "      <td>0.000300</td>\n",
       "      <td>0.1020</td>\n",
       "      <td>18.70</td>\n",
       "      <td>0</td>\n",
       "      <td>Red</td>\n",
       "      <td>M</td>\n",
       "      <td>0 - 8000</td>\n",
       "    </tr>\n",
       "    <tr>\n",
       "      <th>3</th>\n",
       "      <td>2800</td>\n",
       "      <td>0.000200</td>\n",
       "      <td>0.1600</td>\n",
       "      <td>16.65</td>\n",
       "      <td>0</td>\n",
       "      <td>Red</td>\n",
       "      <td>M</td>\n",
       "      <td>0 - 8000</td>\n",
       "    </tr>\n",
       "    <tr>\n",
       "      <th>4</th>\n",
       "      <td>1939</td>\n",
       "      <td>0.000138</td>\n",
       "      <td>0.1030</td>\n",
       "      <td>20.06</td>\n",
       "      <td>0</td>\n",
       "      <td>Red</td>\n",
       "      <td>M</td>\n",
       "      <td>0 - 8000</td>\n",
       "    </tr>\n",
       "    <tr>\n",
       "      <th>...</th>\n",
       "      <td>...</td>\n",
       "      <td>...</td>\n",
       "      <td>...</td>\n",
       "      <td>...</td>\n",
       "      <td>...</td>\n",
       "      <td>...</td>\n",
       "      <td>...</td>\n",
       "      <td>...</td>\n",
       "    </tr>\n",
       "    <tr>\n",
       "      <th>235</th>\n",
       "      <td>38940</td>\n",
       "      <td>374830.000000</td>\n",
       "      <td>1356.0000</td>\n",
       "      <td>-9.93</td>\n",
       "      <td>5</td>\n",
       "      <td>Blue</td>\n",
       "      <td>O</td>\n",
       "      <td>32001-40000</td>\n",
       "    </tr>\n",
       "    <tr>\n",
       "      <th>236</th>\n",
       "      <td>30839</td>\n",
       "      <td>834042.000000</td>\n",
       "      <td>1194.0000</td>\n",
       "      <td>-10.63</td>\n",
       "      <td>5</td>\n",
       "      <td>Blue</td>\n",
       "      <td>O</td>\n",
       "      <td>24001-32000</td>\n",
       "    </tr>\n",
       "    <tr>\n",
       "      <th>237</th>\n",
       "      <td>8829</td>\n",
       "      <td>537493.000000</td>\n",
       "      <td>1423.0000</td>\n",
       "      <td>-10.73</td>\n",
       "      <td>5</td>\n",
       "      <td>White</td>\n",
       "      <td>A</td>\n",
       "      <td>8001-16000</td>\n",
       "    </tr>\n",
       "    <tr>\n",
       "      <th>238</th>\n",
       "      <td>9235</td>\n",
       "      <td>404940.000000</td>\n",
       "      <td>1112.0000</td>\n",
       "      <td>-11.23</td>\n",
       "      <td>5</td>\n",
       "      <td>White</td>\n",
       "      <td>A</td>\n",
       "      <td>8001-16000</td>\n",
       "    </tr>\n",
       "    <tr>\n",
       "      <th>239</th>\n",
       "      <td>37882</td>\n",
       "      <td>294903.000000</td>\n",
       "      <td>1783.0000</td>\n",
       "      <td>-7.80</td>\n",
       "      <td>5</td>\n",
       "      <td>Blue</td>\n",
       "      <td>O</td>\n",
       "      <td>32001-40000</td>\n",
       "    </tr>\n",
       "  </tbody>\n",
       "</table>\n",
       "<p>240 rows × 8 columns</p>\n",
       "</div>"
      ],
      "text/plain": [
       "     Temperature (K)  Luminosity(L/Lo)  Radius(R/Ro)  Absolute magnitude(Mv)  \\\n",
       "0               3068          0.002400        0.1700                   16.12   \n",
       "1               3042          0.000500        0.1542                   16.60   \n",
       "2               2600          0.000300        0.1020                   18.70   \n",
       "3               2800          0.000200        0.1600                   16.65   \n",
       "4               1939          0.000138        0.1030                   20.06   \n",
       "..               ...               ...           ...                     ...   \n",
       "235            38940     374830.000000     1356.0000                   -9.93   \n",
       "236            30839     834042.000000     1194.0000                  -10.63   \n",
       "237             8829     537493.000000     1423.0000                  -10.73   \n",
       "238             9235     404940.000000     1112.0000                  -11.23   \n",
       "239            37882     294903.000000     1783.0000                   -7.80   \n",
       "\n",
       "     Star type Star color Spectral Class Temperature Range  \n",
       "0            0        Red              M          0 - 8000  \n",
       "1            0        Red              M          0 - 8000  \n",
       "2            0        Red              M          0 - 8000  \n",
       "3            0        Red              M          0 - 8000  \n",
       "4            0        Red              M          0 - 8000  \n",
       "..         ...        ...            ...               ...  \n",
       "235          5       Blue              O       32001-40000  \n",
       "236          5       Blue              O       24001-32000  \n",
       "237          5      White              A        8001-16000  \n",
       "238          5      White              A        8001-16000  \n",
       "239          5       Blue              O       32001-40000  \n",
       "\n",
       "[240 rows x 8 columns]"
      ]
     },
     "execution_count": 113,
     "metadata": {},
     "output_type": "execute_result"
    }
   ],
   "source": [
    "nf"
   ]
  },
  {
   "cell_type": "code",
   "execution_count": 114,
   "id": "97ea65a8-97d2-49ec-ab47-24701b04e63c",
   "metadata": {
    "tags": []
   },
   "outputs": [],
   "source": [
    "y = nf[\"Star type\"]\n",
    "nf.drop(columns = ['Star type','Temperature Range'], inplace = True, axis = 1)"
   ]
  },
  {
   "cell_type": "code",
   "execution_count": 115,
   "id": "b7c85614-0bab-48e5-89ab-c2328629d8d7",
   "metadata": {
    "tags": []
   },
   "outputs": [
    {
     "data": {
      "text/html": [
       "<div>\n",
       "<style scoped>\n",
       "    .dataframe tbody tr th:only-of-type {\n",
       "        vertical-align: middle;\n",
       "    }\n",
       "\n",
       "    .dataframe tbody tr th {\n",
       "        vertical-align: top;\n",
       "    }\n",
       "\n",
       "    .dataframe thead th {\n",
       "        text-align: right;\n",
       "    }\n",
       "</style>\n",
       "<table border=\"1\" class=\"dataframe\">\n",
       "  <thead>\n",
       "    <tr style=\"text-align: right;\">\n",
       "      <th></th>\n",
       "      <th>Temperature (K)</th>\n",
       "      <th>Luminosity(L/Lo)</th>\n",
       "      <th>Radius(R/Ro)</th>\n",
       "      <th>Absolute magnitude(Mv)</th>\n",
       "      <th>Star color</th>\n",
       "      <th>Spectral Class</th>\n",
       "    </tr>\n",
       "  </thead>\n",
       "  <tbody>\n",
       "    <tr>\n",
       "      <th>0</th>\n",
       "      <td>3068</td>\n",
       "      <td>0.002400</td>\n",
       "      <td>0.1700</td>\n",
       "      <td>16.12</td>\n",
       "      <td>Red</td>\n",
       "      <td>M</td>\n",
       "    </tr>\n",
       "    <tr>\n",
       "      <th>1</th>\n",
       "      <td>3042</td>\n",
       "      <td>0.000500</td>\n",
       "      <td>0.1542</td>\n",
       "      <td>16.60</td>\n",
       "      <td>Red</td>\n",
       "      <td>M</td>\n",
       "    </tr>\n",
       "    <tr>\n",
       "      <th>2</th>\n",
       "      <td>2600</td>\n",
       "      <td>0.000300</td>\n",
       "      <td>0.1020</td>\n",
       "      <td>18.70</td>\n",
       "      <td>Red</td>\n",
       "      <td>M</td>\n",
       "    </tr>\n",
       "    <tr>\n",
       "      <th>3</th>\n",
       "      <td>2800</td>\n",
       "      <td>0.000200</td>\n",
       "      <td>0.1600</td>\n",
       "      <td>16.65</td>\n",
       "      <td>Red</td>\n",
       "      <td>M</td>\n",
       "    </tr>\n",
       "    <tr>\n",
       "      <th>4</th>\n",
       "      <td>1939</td>\n",
       "      <td>0.000138</td>\n",
       "      <td>0.1030</td>\n",
       "      <td>20.06</td>\n",
       "      <td>Red</td>\n",
       "      <td>M</td>\n",
       "    </tr>\n",
       "  </tbody>\n",
       "</table>\n",
       "</div>"
      ],
      "text/plain": [
       "   Temperature (K)  Luminosity(L/Lo)  Radius(R/Ro)  Absolute magnitude(Mv)  \\\n",
       "0             3068          0.002400        0.1700                   16.12   \n",
       "1             3042          0.000500        0.1542                   16.60   \n",
       "2             2600          0.000300        0.1020                   18.70   \n",
       "3             2800          0.000200        0.1600                   16.65   \n",
       "4             1939          0.000138        0.1030                   20.06   \n",
       "\n",
       "  Star color Spectral Class  \n",
       "0        Red              M  \n",
       "1        Red              M  \n",
       "2        Red              M  \n",
       "3        Red              M  \n",
       "4        Red              M  "
      ]
     },
     "execution_count": 115,
     "metadata": {},
     "output_type": "execute_result"
    }
   ],
   "source": [
    "nf.head(5)"
   ]
  },
  {
   "cell_type": "code",
   "execution_count": 116,
   "id": "48755b1a-f79a-4531-95f7-322b19a0729b",
   "metadata": {
    "tags": []
   },
   "outputs": [
    {
     "data": {
      "text/plain": [
       "0      0\n",
       "1      0\n",
       "2      0\n",
       "3      0\n",
       "4      0\n",
       "      ..\n",
       "235    5\n",
       "236    5\n",
       "237    5\n",
       "238    5\n",
       "239    5\n",
       "Name: Star type, Length: 240, dtype: int64"
      ]
     },
     "execution_count": 116,
     "metadata": {},
     "output_type": "execute_result"
    }
   ],
   "source": [
    "y"
   ]
  },
  {
   "cell_type": "code",
   "execution_count": 117,
   "id": "1391c3b1-5a71-4ee4-b66a-0197475fe47e",
   "metadata": {
    "tags": []
   },
   "outputs": [],
   "source": [
    "# xyz = pd.get_dummies(nf,columns = ['Star color','Spectral Class'])"
   ]
  },
  {
   "cell_type": "code",
   "execution_count": 118,
   "id": "1d7e55a3-f59d-47f6-b9b7-f0a17caec4c8",
   "metadata": {
    "tags": []
   },
   "outputs": [
    {
     "data": {
      "text/html": [
       "<div>\n",
       "<style scoped>\n",
       "    .dataframe tbody tr th:only-of-type {\n",
       "        vertical-align: middle;\n",
       "    }\n",
       "\n",
       "    .dataframe tbody tr th {\n",
       "        vertical-align: top;\n",
       "    }\n",
       "\n",
       "    .dataframe thead th {\n",
       "        text-align: right;\n",
       "    }\n",
       "</style>\n",
       "<table border=\"1\" class=\"dataframe\">\n",
       "  <thead>\n",
       "    <tr style=\"text-align: right;\">\n",
       "      <th></th>\n",
       "      <th>Temperature (K)</th>\n",
       "      <th>Luminosity(L/Lo)</th>\n",
       "      <th>Radius(R/Ro)</th>\n",
       "      <th>Absolute magnitude(Mv)</th>\n",
       "      <th>Star_color_en</th>\n",
       "      <th>Spectral_Class_en</th>\n",
       "    </tr>\n",
       "  </thead>\n",
       "  <tbody>\n",
       "    <tr>\n",
       "      <th>0</th>\n",
       "      <td>3068</td>\n",
       "      <td>0.002400</td>\n",
       "      <td>0.1700</td>\n",
       "      <td>16.12</td>\n",
       "      <td>5</td>\n",
       "      <td>5</td>\n",
       "    </tr>\n",
       "    <tr>\n",
       "      <th>1</th>\n",
       "      <td>3042</td>\n",
       "      <td>0.000500</td>\n",
       "      <td>0.1542</td>\n",
       "      <td>16.60</td>\n",
       "      <td>5</td>\n",
       "      <td>5</td>\n",
       "    </tr>\n",
       "    <tr>\n",
       "      <th>2</th>\n",
       "      <td>2600</td>\n",
       "      <td>0.000300</td>\n",
       "      <td>0.1020</td>\n",
       "      <td>18.70</td>\n",
       "      <td>5</td>\n",
       "      <td>5</td>\n",
       "    </tr>\n",
       "    <tr>\n",
       "      <th>3</th>\n",
       "      <td>2800</td>\n",
       "      <td>0.000200</td>\n",
       "      <td>0.1600</td>\n",
       "      <td>16.65</td>\n",
       "      <td>5</td>\n",
       "      <td>5</td>\n",
       "    </tr>\n",
       "    <tr>\n",
       "      <th>4</th>\n",
       "      <td>1939</td>\n",
       "      <td>0.000138</td>\n",
       "      <td>0.1030</td>\n",
       "      <td>20.06</td>\n",
       "      <td>5</td>\n",
       "      <td>5</td>\n",
       "    </tr>\n",
       "    <tr>\n",
       "      <th>...</th>\n",
       "      <td>...</td>\n",
       "      <td>...</td>\n",
       "      <td>...</td>\n",
       "      <td>...</td>\n",
       "      <td>...</td>\n",
       "      <td>...</td>\n",
       "    </tr>\n",
       "    <tr>\n",
       "      <th>235</th>\n",
       "      <td>38940</td>\n",
       "      <td>374830.000000</td>\n",
       "      <td>1356.0000</td>\n",
       "      <td>-9.93</td>\n",
       "      <td>0</td>\n",
       "      <td>6</td>\n",
       "    </tr>\n",
       "    <tr>\n",
       "      <th>236</th>\n",
       "      <td>30839</td>\n",
       "      <td>834042.000000</td>\n",
       "      <td>1194.0000</td>\n",
       "      <td>-10.63</td>\n",
       "      <td>0</td>\n",
       "      <td>6</td>\n",
       "    </tr>\n",
       "    <tr>\n",
       "      <th>237</th>\n",
       "      <td>8829</td>\n",
       "      <td>537493.000000</td>\n",
       "      <td>1423.0000</td>\n",
       "      <td>-10.73</td>\n",
       "      <td>6</td>\n",
       "      <td>0</td>\n",
       "    </tr>\n",
       "    <tr>\n",
       "      <th>238</th>\n",
       "      <td>9235</td>\n",
       "      <td>404940.000000</td>\n",
       "      <td>1112.0000</td>\n",
       "      <td>-11.23</td>\n",
       "      <td>6</td>\n",
       "      <td>0</td>\n",
       "    </tr>\n",
       "    <tr>\n",
       "      <th>239</th>\n",
       "      <td>37882</td>\n",
       "      <td>294903.000000</td>\n",
       "      <td>1783.0000</td>\n",
       "      <td>-7.80</td>\n",
       "      <td>0</td>\n",
       "      <td>6</td>\n",
       "    </tr>\n",
       "  </tbody>\n",
       "</table>\n",
       "<p>240 rows × 6 columns</p>\n",
       "</div>"
      ],
      "text/plain": [
       "     Temperature (K)  Luminosity(L/Lo)  Radius(R/Ro)  Absolute magnitude(Mv)  \\\n",
       "0               3068          0.002400        0.1700                   16.12   \n",
       "1               3042          0.000500        0.1542                   16.60   \n",
       "2               2600          0.000300        0.1020                   18.70   \n",
       "3               2800          0.000200        0.1600                   16.65   \n",
       "4               1939          0.000138        0.1030                   20.06   \n",
       "..               ...               ...           ...                     ...   \n",
       "235            38940     374830.000000     1356.0000                   -9.93   \n",
       "236            30839     834042.000000     1194.0000                  -10.63   \n",
       "237             8829     537493.000000     1423.0000                  -10.73   \n",
       "238             9235     404940.000000     1112.0000                  -11.23   \n",
       "239            37882     294903.000000     1783.0000                   -7.80   \n",
       "\n",
       "     Star_color_en  Spectral_Class_en  \n",
       "0                5                  5  \n",
       "1                5                  5  \n",
       "2                5                  5  \n",
       "3                5                  5  \n",
       "4                5                  5  \n",
       "..             ...                ...  \n",
       "235              0                  6  \n",
       "236              0                  6  \n",
       "237              6                  0  \n",
       "238              6                  0  \n",
       "239              0                  6  \n",
       "\n",
       "[240 rows x 6 columns]"
      ]
     },
     "execution_count": 118,
     "metadata": {},
     "output_type": "execute_result"
    }
   ],
   "source": [
    "# Initialize the LabelEncoder\n",
    "xyz = nf.copy()\n",
    "label_encoder = LabelEncoder()\n",
    "\n",
    "# Fit and transform the categorical column\n",
    "xyz['Star_color_en'] = label_encoder.fit_transform(xyz['Star color'])\n",
    "xyz['Spectral_Class_en'] = label_encoder.fit_transform(xyz['Spectral Class'])\n",
    "\n",
    "xyz.drop(labels = ['Star color', 'Spectral Class'],axis = 1, inplace= True)\n",
    "xyz"
   ]
  },
  {
   "cell_type": "code",
   "execution_count": 119,
   "id": "33d87fa6-f012-4806-90e6-66b3f46994d2",
   "metadata": {
    "tags": []
   },
   "outputs": [
    {
     "data": {
      "text/html": [
       "<div>\n",
       "<style scoped>\n",
       "    .dataframe tbody tr th:only-of-type {\n",
       "        vertical-align: middle;\n",
       "    }\n",
       "\n",
       "    .dataframe tbody tr th {\n",
       "        vertical-align: top;\n",
       "    }\n",
       "\n",
       "    .dataframe thead th {\n",
       "        text-align: right;\n",
       "    }\n",
       "</style>\n",
       "<table border=\"1\" class=\"dataframe\">\n",
       "  <thead>\n",
       "    <tr style=\"text-align: right;\">\n",
       "      <th></th>\n",
       "      <th>Temperature (K)</th>\n",
       "      <th>Luminosity(L/Lo)</th>\n",
       "      <th>Radius(R/Ro)</th>\n",
       "      <th>Absolute magnitude(Mv)</th>\n",
       "      <th>Star_color_en</th>\n",
       "      <th>Spectral_Class_en</th>\n",
       "    </tr>\n",
       "  </thead>\n",
       "  <tbody>\n",
       "    <tr>\n",
       "      <th>0</th>\n",
       "      <td>3068</td>\n",
       "      <td>0.002400</td>\n",
       "      <td>0.1700</td>\n",
       "      <td>16.12</td>\n",
       "      <td>5</td>\n",
       "      <td>5</td>\n",
       "    </tr>\n",
       "    <tr>\n",
       "      <th>1</th>\n",
       "      <td>3042</td>\n",
       "      <td>0.000500</td>\n",
       "      <td>0.1542</td>\n",
       "      <td>16.60</td>\n",
       "      <td>5</td>\n",
       "      <td>5</td>\n",
       "    </tr>\n",
       "    <tr>\n",
       "      <th>2</th>\n",
       "      <td>2600</td>\n",
       "      <td>0.000300</td>\n",
       "      <td>0.1020</td>\n",
       "      <td>18.70</td>\n",
       "      <td>5</td>\n",
       "      <td>5</td>\n",
       "    </tr>\n",
       "    <tr>\n",
       "      <th>3</th>\n",
       "      <td>2800</td>\n",
       "      <td>0.000200</td>\n",
       "      <td>0.1600</td>\n",
       "      <td>16.65</td>\n",
       "      <td>5</td>\n",
       "      <td>5</td>\n",
       "    </tr>\n",
       "    <tr>\n",
       "      <th>4</th>\n",
       "      <td>1939</td>\n",
       "      <td>0.000138</td>\n",
       "      <td>0.1030</td>\n",
       "      <td>20.06</td>\n",
       "      <td>5</td>\n",
       "      <td>5</td>\n",
       "    </tr>\n",
       "  </tbody>\n",
       "</table>\n",
       "</div>"
      ],
      "text/plain": [
       "   Temperature (K)  Luminosity(L/Lo)  Radius(R/Ro)  Absolute magnitude(Mv)  \\\n",
       "0             3068          0.002400        0.1700                   16.12   \n",
       "1             3042          0.000500        0.1542                   16.60   \n",
       "2             2600          0.000300        0.1020                   18.70   \n",
       "3             2800          0.000200        0.1600                   16.65   \n",
       "4             1939          0.000138        0.1030                   20.06   \n",
       "\n",
       "   Star_color_en  Spectral_Class_en  \n",
       "0              5                  5  \n",
       "1              5                  5  \n",
       "2              5                  5  \n",
       "3              5                  5  \n",
       "4              5                  5  "
      ]
     },
     "execution_count": 119,
     "metadata": {},
     "output_type": "execute_result"
    }
   ],
   "source": [
    "xyz.head(5)"
   ]
  },
  {
   "cell_type": "code",
   "execution_count": 120,
   "id": "a5f7370b-1faf-404d-bd17-00c54928442a",
   "metadata": {
    "tags": []
   },
   "outputs": [
    {
     "data": {
      "text/html": [
       "<div>\n",
       "<style scoped>\n",
       "    .dataframe tbody tr th:only-of-type {\n",
       "        vertical-align: middle;\n",
       "    }\n",
       "\n",
       "    .dataframe tbody tr th {\n",
       "        vertical-align: top;\n",
       "    }\n",
       "\n",
       "    .dataframe thead th {\n",
       "        text-align: right;\n",
       "    }\n",
       "</style>\n",
       "<table border=\"1\" class=\"dataframe\">\n",
       "  <thead>\n",
       "    <tr style=\"text-align: right;\">\n",
       "      <th></th>\n",
       "      <th>Temperature (K)</th>\n",
       "      <th>Luminosity(L/Lo)</th>\n",
       "      <th>Radius(R/Ro)</th>\n",
       "      <th>Absolute magnitude(Mv)</th>\n",
       "      <th>Star_color_en</th>\n",
       "      <th>Spectral_Class_en</th>\n",
       "    </tr>\n",
       "  </thead>\n",
       "  <tbody>\n",
       "    <tr>\n",
       "      <th>count</th>\n",
       "      <td>240.000000</td>\n",
       "      <td>240.000000</td>\n",
       "      <td>240.000000</td>\n",
       "      <td>240.000000</td>\n",
       "      <td>240.000000</td>\n",
       "      <td>240.000000</td>\n",
       "    </tr>\n",
       "    <tr>\n",
       "      <th>mean</th>\n",
       "      <td>10497.462500</td>\n",
       "      <td>107188.361635</td>\n",
       "      <td>237.157781</td>\n",
       "      <td>4.382396</td>\n",
       "      <td>3.337500</td>\n",
       "      <td>3.758333</td>\n",
       "    </tr>\n",
       "    <tr>\n",
       "      <th>std</th>\n",
       "      <td>9552.425037</td>\n",
       "      <td>179432.244940</td>\n",
       "      <td>517.155763</td>\n",
       "      <td>10.532512</td>\n",
       "      <td>2.544715</td>\n",
       "      <td>2.090007</td>\n",
       "    </tr>\n",
       "    <tr>\n",
       "      <th>min</th>\n",
       "      <td>1939.000000</td>\n",
       "      <td>0.000080</td>\n",
       "      <td>0.008400</td>\n",
       "      <td>-11.920000</td>\n",
       "      <td>0.000000</td>\n",
       "      <td>0.000000</td>\n",
       "    </tr>\n",
       "    <tr>\n",
       "      <th>25%</th>\n",
       "      <td>3344.250000</td>\n",
       "      <td>0.000865</td>\n",
       "      <td>0.102750</td>\n",
       "      <td>-6.232500</td>\n",
       "      <td>1.000000</td>\n",
       "      <td>1.000000</td>\n",
       "    </tr>\n",
       "    <tr>\n",
       "      <th>50%</th>\n",
       "      <td>5776.000000</td>\n",
       "      <td>0.070500</td>\n",
       "      <td>0.762500</td>\n",
       "      <td>8.313000</td>\n",
       "      <td>5.000000</td>\n",
       "      <td>5.000000</td>\n",
       "    </tr>\n",
       "    <tr>\n",
       "      <th>75%</th>\n",
       "      <td>15055.500000</td>\n",
       "      <td>198050.000000</td>\n",
       "      <td>42.750000</td>\n",
       "      <td>13.697500</td>\n",
       "      <td>5.000000</td>\n",
       "      <td>5.000000</td>\n",
       "    </tr>\n",
       "    <tr>\n",
       "      <th>max</th>\n",
       "      <td>40000.000000</td>\n",
       "      <td>849420.000000</td>\n",
       "      <td>1948.500000</td>\n",
       "      <td>20.060000</td>\n",
       "      <td>8.000000</td>\n",
       "      <td>6.000000</td>\n",
       "    </tr>\n",
       "  </tbody>\n",
       "</table>\n",
       "</div>"
      ],
      "text/plain": [
       "       Temperature (K)  Luminosity(L/Lo)  Radius(R/Ro)  \\\n",
       "count       240.000000        240.000000    240.000000   \n",
       "mean      10497.462500     107188.361635    237.157781   \n",
       "std        9552.425037     179432.244940    517.155763   \n",
       "min        1939.000000          0.000080      0.008400   \n",
       "25%        3344.250000          0.000865      0.102750   \n",
       "50%        5776.000000          0.070500      0.762500   \n",
       "75%       15055.500000     198050.000000     42.750000   \n",
       "max       40000.000000     849420.000000   1948.500000   \n",
       "\n",
       "       Absolute magnitude(Mv)  Star_color_en  Spectral_Class_en  \n",
       "count              240.000000     240.000000         240.000000  \n",
       "mean                 4.382396       3.337500           3.758333  \n",
       "std                 10.532512       2.544715           2.090007  \n",
       "min                -11.920000       0.000000           0.000000  \n",
       "25%                 -6.232500       1.000000           1.000000  \n",
       "50%                  8.313000       5.000000           5.000000  \n",
       "75%                 13.697500       5.000000           5.000000  \n",
       "max                 20.060000       8.000000           6.000000  "
      ]
     },
     "execution_count": 120,
     "metadata": {},
     "output_type": "execute_result"
    }
   ],
   "source": [
    "xyz.describe()"
   ]
  },
  {
   "cell_type": "code",
   "execution_count": 121,
   "id": "44c43976-0035-415b-bbee-7bb4039392ba",
   "metadata": {
    "tags": []
   },
   "outputs": [],
   "source": [
    "correlation_matrix = xyz.corr(method='pearson')"
   ]
  },
  {
   "cell_type": "code",
   "execution_count": 122,
   "id": "3af87319-28d3-4347-88af-2cf55fcc22b7",
   "metadata": {
    "tags": []
   },
   "outputs": [
    {
     "data": {
      "text/html": [
       "<div>\n",
       "<style scoped>\n",
       "    .dataframe tbody tr th:only-of-type {\n",
       "        vertical-align: middle;\n",
       "    }\n",
       "\n",
       "    .dataframe tbody tr th {\n",
       "        vertical-align: top;\n",
       "    }\n",
       "\n",
       "    .dataframe thead th {\n",
       "        text-align: right;\n",
       "    }\n",
       "</style>\n",
       "<table border=\"1\" class=\"dataframe\">\n",
       "  <thead>\n",
       "    <tr style=\"text-align: right;\">\n",
       "      <th></th>\n",
       "      <th>Temperature (K)</th>\n",
       "      <th>Luminosity(L/Lo)</th>\n",
       "      <th>Radius(R/Ro)</th>\n",
       "      <th>Absolute magnitude(Mv)</th>\n",
       "      <th>Star_color_en</th>\n",
       "      <th>Spectral_Class_en</th>\n",
       "    </tr>\n",
       "  </thead>\n",
       "  <tbody>\n",
       "    <tr>\n",
       "      <th>Temperature (K)</th>\n",
       "      <td>1.000000</td>\n",
       "      <td>0.393404</td>\n",
       "      <td>0.064216</td>\n",
       "      <td>-0.420261</td>\n",
       "      <td>-0.741247</td>\n",
       "      <td>-0.207852</td>\n",
       "    </tr>\n",
       "    <tr>\n",
       "      <th>Luminosity(L/Lo)</th>\n",
       "      <td>0.393404</td>\n",
       "      <td>1.000000</td>\n",
       "      <td>0.526516</td>\n",
       "      <td>-0.692619</td>\n",
       "      <td>-0.376827</td>\n",
       "      <td>0.275280</td>\n",
       "    </tr>\n",
       "    <tr>\n",
       "      <th>Radius(R/Ro)</th>\n",
       "      <td>0.064216</td>\n",
       "      <td>0.526516</td>\n",
       "      <td>1.000000</td>\n",
       "      <td>-0.608728</td>\n",
       "      <td>-0.007336</td>\n",
       "      <td>0.097124</td>\n",
       "    </tr>\n",
       "    <tr>\n",
       "      <th>Absolute magnitude(Mv)</th>\n",
       "      <td>-0.420261</td>\n",
       "      <td>-0.692619</td>\n",
       "      <td>-0.608728</td>\n",
       "      <td>1.000000</td>\n",
       "      <td>0.388195</td>\n",
       "      <td>-0.085840</td>\n",
       "    </tr>\n",
       "    <tr>\n",
       "      <th>Star_color_en</th>\n",
       "      <td>-0.741247</td>\n",
       "      <td>-0.376827</td>\n",
       "      <td>-0.007336</td>\n",
       "      <td>0.388195</td>\n",
       "      <td>1.000000</td>\n",
       "      <td>0.134980</td>\n",
       "    </tr>\n",
       "    <tr>\n",
       "      <th>Spectral_Class_en</th>\n",
       "      <td>-0.207852</td>\n",
       "      <td>0.275280</td>\n",
       "      <td>0.097124</td>\n",
       "      <td>-0.085840</td>\n",
       "      <td>0.134980</td>\n",
       "      <td>1.000000</td>\n",
       "    </tr>\n",
       "  </tbody>\n",
       "</table>\n",
       "</div>"
      ],
      "text/plain": [
       "                        Temperature (K)  Luminosity(L/Lo)  Radius(R/Ro)  \\\n",
       "Temperature (K)                1.000000          0.393404      0.064216   \n",
       "Luminosity(L/Lo)               0.393404          1.000000      0.526516   \n",
       "Radius(R/Ro)                   0.064216          0.526516      1.000000   \n",
       "Absolute magnitude(Mv)        -0.420261         -0.692619     -0.608728   \n",
       "Star_color_en                 -0.741247         -0.376827     -0.007336   \n",
       "Spectral_Class_en             -0.207852          0.275280      0.097124   \n",
       "\n",
       "                        Absolute magnitude(Mv)  Star_color_en  \\\n",
       "Temperature (K)                      -0.420261      -0.741247   \n",
       "Luminosity(L/Lo)                     -0.692619      -0.376827   \n",
       "Radius(R/Ro)                         -0.608728      -0.007336   \n",
       "Absolute magnitude(Mv)                1.000000       0.388195   \n",
       "Star_color_en                         0.388195       1.000000   \n",
       "Spectral_Class_en                    -0.085840       0.134980   \n",
       "\n",
       "                        Spectral_Class_en  \n",
       "Temperature (K)                 -0.207852  \n",
       "Luminosity(L/Lo)                 0.275280  \n",
       "Radius(R/Ro)                     0.097124  \n",
       "Absolute magnitude(Mv)          -0.085840  \n",
       "Star_color_en                    0.134980  \n",
       "Spectral_Class_en                1.000000  "
      ]
     },
     "execution_count": 122,
     "metadata": {},
     "output_type": "execute_result"
    }
   ],
   "source": [
    "correlation_matrix\n"
   ]
  },
  {
   "cell_type": "code",
   "execution_count": 123,
   "id": "1821fb5b-7864-4b52-bf71-61313d633c23",
   "metadata": {
    "tags": []
   },
   "outputs": [
    {
     "data": {
      "image/png": "[encoded data removed]",
      "text/plain": [
       "<Figure size 600x400 with 2 Axes>"
      ]
     },
     "metadata": {},
     "output_type": "display_data"
    }
   ],
   "source": [
    "plt.figure(figsize=(6, 4))\n",
    "sns.heatmap(correlation_matrix, annot=True, cmap='coolwarm')\n",
    "plt.title('Correlation Matrix - Star Dataset')\n",
    "\n",
    "# Rotate the x-axis labels for better readability\n",
    "plt.xticks(rotation=45)\n",
    "plt.savefig('6.png')\n",
    "# Show the plot\n",
    "plt.show()\n"
   ]
  },
  {
   "cell_type": "code",
   "execution_count": 124,
   "id": "5a405f8a-f5fa-4cd9-b0da-b7b3ec63413b",
   "metadata": {
    "tags": []
   },
   "outputs": [
    {
     "data": {
      "image/png": "[encoded data removed]",
      "text/plain": [
       "<Figure size 640x480 with 1 Axes>"
      ]
     },
     "metadata": {},
     "output_type": "display_data"
    }
   ],
   "source": [
    "sns.histplot(xyz['Temperature (K)'],kde=True)\n",
    "plt.title(\"Histogram plot of Temperature\")\n",
    "plt.savefig('7.png')\n"
   ]
  },
  {
   "cell_type": "code",
   "execution_count": 125,
   "id": "a00d7369-511b-4959-85e1-c2212facd64a",
   "metadata": {
    "tags": []
   },
   "outputs": [
    {
     "data": {
      "image/png": "[encoded data removed]",
      "text/plain": [
       "<Figure size 640x480 with 1 Axes>"
      ]
     },
     "metadata": {},
     "output_type": "display_data"
    }
   ],
   "source": [
    "sns.histplot(xyz['Luminosity(L/Lo)'],kde=True)\n",
    "plt.title(\"Histogram plot of Luminosity\")\n",
    "plt.savefig('8.png')"
   ]
  },
  {
   "cell_type": "code",
   "execution_count": 126,
   "id": "6512b6f7-d4e6-4710-8886-aac2c77330dd",
   "metadata": {
    "tags": []
   },
   "outputs": [
    {
     "data": {
      "image/png": "[encoded data removed]",
      "text/plain": [
       "<Figure size 640x480 with 1 Axes>"
      ]
     },
     "metadata": {},
     "output_type": "display_data"
    }
   ],
   "source": [
    "sns.histplot(xyz['Radius(R/Ro)'],kde=True)\n",
    "plt.title(\"Histogram plot of Radius\")\n",
    "plt.savefig('9.png')"
   ]
  },
  {
   "cell_type": "code",
   "execution_count": 127,
   "id": "4b2618c7-e6be-4ccd-98b8-181d2bd8302b",
   "metadata": {
    "tags": []
   },
   "outputs": [
    {
     "data": {
      "image/png": "[encoded data removed]",
      "text/plain": [
       "<Figure size 640x480 with 1 Axes>"
      ]
     },
     "metadata": {},
     "output_type": "display_data"
    }
   ],
   "source": [
    "sns.histplot(xyz['Absolute magnitude(Mv)'],kde=True)\n",
    "plt.title(\"Histogram plot of Magnitude\")\n",
    "plt.savefig('10.png')"
   ]
  },
  {
   "cell_type": "code",
   "execution_count": 128,
   "id": "2132ddcb-291b-4130-9637-a041fc99c8e5",
   "metadata": {
    "tags": []
   },
   "outputs": [],
   "source": [
    "X_shuffled, y_shuffled = shuffle(xyz, y, random_state=42)\n",
    "X_train, X_test, y_train, y_test = train_test_split(X_shuffled, y_shuffled, test_size = 0.2, random_state = 0)\n"
   ]
  },
  {
   "cell_type": "code",
   "execution_count": 129,
   "id": "5b72fff0-8065-4163-b8c5-f5fd2b8fb8b7",
   "metadata": {
    "tags": []
   },
   "outputs": [],
   "source": [
    "#X_train, X_test, Y_train, Y_test = train_test_split(xyz, y, test_size = 0.2, random_state= 100)"
   ]
  },
  {
   "cell_type": "code",
   "execution_count": 130,
   "id": "1993f424-3ec2-498c-85a6-f60d9daa4f0a",
   "metadata": {
    "tags": []
   },
   "outputs": [
    {
     "data": {
      "text/html": [
       "<div>\n",
       "<style scoped>\n",
       "    .dataframe tbody tr th:only-of-type {\n",
       "        vertical-align: middle;\n",
       "    }\n",
       "\n",
       "    .dataframe tbody tr th {\n",
       "        vertical-align: top;\n",
       "    }\n",
       "\n",
       "    .dataframe thead th {\n",
       "        text-align: right;\n",
       "    }\n",
       "</style>\n",
       "<table border=\"1\" class=\"dataframe\">\n",
       "  <thead>\n",
       "    <tr style=\"text-align: right;\">\n",
       "      <th></th>\n",
       "      <th>Temperature (K)</th>\n",
       "      <th>Luminosity(L/Lo)</th>\n",
       "      <th>Radius(R/Ro)</th>\n",
       "      <th>Absolute magnitude(Mv)</th>\n",
       "      <th>Star_color_en</th>\n",
       "      <th>Spectral_Class_en</th>\n",
       "    </tr>\n",
       "  </thead>\n",
       "  <tbody>\n",
       "    <tr>\n",
       "      <th>46</th>\n",
       "      <td>3575</td>\n",
       "      <td>123000.000000</td>\n",
       "      <td>45.0000</td>\n",
       "      <td>-6.78</td>\n",
       "      <td>5</td>\n",
       "      <td>5</td>\n",
       "    </tr>\n",
       "    <tr>\n",
       "      <th>102</th>\n",
       "      <td>23000</td>\n",
       "      <td>127000.000000</td>\n",
       "      <td>36.0000</td>\n",
       "      <td>-5.76</td>\n",
       "      <td>0</td>\n",
       "      <td>6</td>\n",
       "    </tr>\n",
       "    <tr>\n",
       "      <th>67</th>\n",
       "      <td>2817</td>\n",
       "      <td>0.000980</td>\n",
       "      <td>0.0911</td>\n",
       "      <td>16.45</td>\n",
       "      <td>5</td>\n",
       "      <td>5</td>\n",
       "    </tr>\n",
       "    <tr>\n",
       "      <th>39</th>\n",
       "      <td>5587</td>\n",
       "      <td>0.819000</td>\n",
       "      <td>0.9900</td>\n",
       "      <td>5.03</td>\n",
       "      <td>8</td>\n",
       "      <td>2</td>\n",
       "    </tr>\n",
       "    <tr>\n",
       "      <th>188</th>\n",
       "      <td>2778</td>\n",
       "      <td>0.000849</td>\n",
       "      <td>0.1120</td>\n",
       "      <td>19.45</td>\n",
       "      <td>5</td>\n",
       "      <td>5</td>\n",
       "    </tr>\n",
       "    <tr>\n",
       "      <th>...</th>\n",
       "      <td>...</td>\n",
       "      <td>...</td>\n",
       "      <td>...</td>\n",
       "      <td>...</td>\n",
       "      <td>...</td>\n",
       "      <td>...</td>\n",
       "    </tr>\n",
       "    <tr>\n",
       "      <th>84</th>\n",
       "      <td>14100</td>\n",
       "      <td>0.000670</td>\n",
       "      <td>0.0089</td>\n",
       "      <td>12.17</td>\n",
       "      <td>1</td>\n",
       "      <td>1</td>\n",
       "    </tr>\n",
       "    <tr>\n",
       "      <th>63</th>\n",
       "      <td>2835</td>\n",
       "      <td>0.000340</td>\n",
       "      <td>0.0918</td>\n",
       "      <td>16.96</td>\n",
       "      <td>5</td>\n",
       "      <td>5</td>\n",
       "    </tr>\n",
       "    <tr>\n",
       "      <th>167</th>\n",
       "      <td>26373</td>\n",
       "      <td>198000.000000</td>\n",
       "      <td>39.0000</td>\n",
       "      <td>-5.83</td>\n",
       "      <td>0</td>\n",
       "      <td>6</td>\n",
       "    </tr>\n",
       "    <tr>\n",
       "      <th>38</th>\n",
       "      <td>5936</td>\n",
       "      <td>1.357000</td>\n",
       "      <td>1.1060</td>\n",
       "      <td>4.46</td>\n",
       "      <td>8</td>\n",
       "      <td>2</td>\n",
       "    </tr>\n",
       "    <tr>\n",
       "      <th>7</th>\n",
       "      <td>2600</td>\n",
       "      <td>0.000400</td>\n",
       "      <td>0.0960</td>\n",
       "      <td>17.40</td>\n",
       "      <td>5</td>\n",
       "      <td>5</td>\n",
       "    </tr>\n",
       "  </tbody>\n",
       "</table>\n",
       "<p>192 rows × 6 columns</p>\n",
       "</div>"
      ],
      "text/plain": [
       "     Temperature (K)  Luminosity(L/Lo)  Radius(R/Ro)  Absolute magnitude(Mv)  \\\n",
       "46              3575     123000.000000       45.0000                   -6.78   \n",
       "102            23000     127000.000000       36.0000                   -5.76   \n",
       "67              2817          0.000980        0.0911                   16.45   \n",
       "39              5587          0.819000        0.9900                    5.03   \n",
       "188             2778          0.000849        0.1120                   19.45   \n",
       "..               ...               ...           ...                     ...   \n",
       "84             14100          0.000670        0.0089                   12.17   \n",
       "63              2835          0.000340        0.0918                   16.96   \n",
       "167            26373     198000.000000       39.0000                   -5.83   \n",
       "38              5936          1.357000        1.1060                    4.46   \n",
       "7               2600          0.000400        0.0960                   17.40   \n",
       "\n",
       "     Star_color_en  Spectral_Class_en  \n",
       "46               5                  5  \n",
       "102              0                  6  \n",
       "67               5                  5  \n",
       "39               8                  2  \n",
       "188              5                  5  \n",
       "..             ...                ...  \n",
       "84               1                  1  \n",
       "63               5                  5  \n",
       "167              0                  6  \n",
       "38               8                  2  \n",
       "7                5                  5  \n",
       "\n",
       "[192 rows x 6 columns]"
      ]
     },
     "execution_count": 130,
     "metadata": {},
     "output_type": "execute_result"
    }
   ],
   "source": [
    "X_train"
   ]
  },
  {
   "cell_type": "code",
   "execution_count": 131,
   "id": "92670351-56e8-4e74-bd92-43c859c3cb7a",
   "metadata": {
    "tags": []
   },
   "outputs": [],
   "source": [
    "classifier = GaussianNB()"
   ]
  },
  {
   "cell_type": "code",
   "execution_count": 132,
   "id": "1719d1fd-f623-4998-950a-1e2344a7c0b8",
   "metadata": {
    "tags": []
   },
   "outputs": [],
   "source": [
    "model = classifier.fit(X_train, y_train)"
   ]
  },
  {
   "cell_type": "code",
   "execution_count": 133,
   "id": "ee74a205-c9eb-4565-bb89-992341b59b67",
   "metadata": {
    "tags": []
   },
   "outputs": [],
   "source": [
    "prediction = model.predict(X_test )"
   ]
  },
  {
   "cell_type": "code",
   "execution_count": 134,
   "id": "b96d50cc-3ae1-4518-b240-7d6c528a1417",
   "metadata": {
    "tags": []
   },
   "outputs": [
    {
     "data": {
      "text/plain": [
       "array([1, 5, 5, 1, 0, 1, 3, 1, 2, 4, 0, 4, 2, 0, 1, 3, 1, 4, 3, 0, 2, 2,\n",
       "       4, 1, 5, 5, 1, 4, 5, 1, 2, 3, 2, 3, 0, 3, 4, 2, 4, 4, 2, 0, 2, 3,\n",
       "       1, 5, 3, 2], dtype=int64)"
      ]
     },
     "execution_count": 134,
     "metadata": {},
     "output_type": "execute_result"
    }
   ],
   "source": [
    "prediction"
   ]
  },
  {
   "cell_type": "code",
   "execution_count": 135,
   "id": "b4f91d60-bcb4-4fe8-a99a-0ec02821a122",
   "metadata": {
    "tags": []
   },
   "outputs": [
    {
     "data": {
      "text/plain": [
       "77     1\n",
       "111    5\n",
       "55     5\n",
       "75     1\n",
       "2      0\n",
       "74     1\n",
       "94     3\n",
       "130    1\n",
       "81     2\n",
       "107    4\n",
       "5      0\n",
       "169    4\n",
       "208    2\n",
       "181    0\n",
       "71     1\n",
       "32     3\n",
       "131    1\n",
       "100    4\n",
       "151    3\n",
       "9      0\n",
       "141    2\n",
       "89     2\n",
       "42     4\n",
       "61     0\n",
       "172    5\n",
       "235    5\n",
       "189    0\n",
       "41     4\n",
       "114    5\n",
       "184    0\n",
       "209    2\n",
       "156    3\n",
       "23     2\n",
       "155    3\n",
       "64     0\n",
       "158    3\n",
       "44     4\n",
       "80     2\n",
       "101    4\n",
       "161    4\n",
       "200    2\n",
       "66     0\n",
       "149    2\n",
       "152    3\n",
       "132    1\n",
       "230    5\n",
       "215    3\n",
       "86     2\n",
       "Name: Star type, dtype: int64"
      ]
     },
     "execution_count": 135,
     "metadata": {},
     "output_type": "execute_result"
    }
   ],
   "source": [
    "y_test"
   ]
  },
  {
   "cell_type": "code",
   "execution_count": 136,
   "id": "2565efff-8586-4c43-aa58-59412104de30",
   "metadata": {
    "tags": []
   },
   "outputs": [],
   "source": [
    "probabilities = classifier.predict_proba(X_test)"
   ]
  },
  {
   "cell_type": "code",
   "execution_count": 137,
   "id": "94a070a4-cfaa-4059-907a-161bdca2f5f3",
   "metadata": {
    "tags": []
   },
   "outputs": [],
   "source": [
    "# probabilities"
   ]
  },
  {
   "cell_type": "code",
   "execution_count": 138,
   "id": "25394b16-2008-4db1-a47c-e936b842257f",
   "metadata": {
    "tags": []
   },
   "outputs": [],
   "source": [
    "cm = confusion_matrix( prediction, y_test)"
   ]
  },
  {
   "cell_type": "code",
   "execution_count": 139,
   "id": "01797d3f-457d-499e-8ca8-dcb0e56c92b5",
   "metadata": {
    "tags": []
   },
   "outputs": [
    {
     "data": {
      "text/plain": [
       "array([[ 6,  0,  0,  0,  0,  0],\n",
       "       [ 3,  7,  0,  0,  0,  0],\n",
       "       [ 0,  0, 10,  0,  0,  0],\n",
       "       [ 0,  0,  0,  8,  0,  0],\n",
       "       [ 0,  0,  0,  0,  8,  0],\n",
       "       [ 0,  0,  0,  0,  0,  6]], dtype=int64)"
      ]
     },
     "execution_count": 139,
     "metadata": {},
     "output_type": "execute_result"
    }
   ],
   "source": [
    "cm"
   ]
  },
  {
   "cell_type": "code",
   "execution_count": 140,
   "id": "76a6fa4f-f108-423f-b9b3-8213e8682ba6",
   "metadata": {
    "tags": []
   },
   "outputs": [
    {
     "data": {
      "image/png": "[encoded data removed]",
      "text/plain": [
       "<Figure size 640x480 with 2 Axes>"
      ]
     },
     "metadata": {},
     "output_type": "display_data"
    }
   ],
   "source": [
    "sns.heatmap(cm, annot=True, fmt='', cmap='Blues',xticklabels = ['0','1','2','3','4','5'],yticklabels = ['0','1','2','3','4','5'] )\n",
    "\n",
    "# Add labels, title, and adjust layout\n",
    "plt.xlabel('Predicted')\n",
    "plt.ylabel('True')\n",
    "plt.title('Confusion Matrix-Gaussian Naive Bayes')\n",
    "plt.tight_layout()\n",
    "plt.savefig('11.png')\n",
    "\n",
    "# Display the heatmap\n",
    "plt.show()"
   ]
  },
  {
   "cell_type": "code",
   "execution_count": 141,
   "id": "c53714d7-4dad-4a6a-a4b6-5ded425fb76c",
   "metadata": {
    "tags": []
   },
   "outputs": [],
   "source": [
    "report = classification_report(y_test, prediction)"
   ]
  },
  {
   "cell_type": "code",
   "execution_count": 142,
   "id": "1ef8cd79-2347-4d10-bd83-d63b630ebc0d",
   "metadata": {
    "tags": []
   },
   "outputs": [
    {
     "name": "stdout",
     "output_type": "stream",
     "text": [
      "              precision    recall  f1-score   support\n",
      "\n",
      "           0       1.00      0.67      0.80         9\n",
      "           1       0.70      1.00      0.82         7\n",
      "           2       1.00      1.00      1.00        10\n",
      "           3       1.00      1.00      1.00         8\n",
      "           4       1.00      1.00      1.00         8\n",
      "           5       1.00      1.00      1.00         6\n",
      "\n",
      "    accuracy                           0.94        48\n",
      "   macro avg       0.95      0.94      0.94        48\n",
      "weighted avg       0.96      0.94      0.94        48\n",
      "\n"
     ]
    }
   ],
   "source": [
    "print(report)"
   ]
  },
  {
   "cell_type": "code",
   "execution_count": 143,
   "id": "6a34178d-9bb1-43b9-ac87-207e50c60720",
   "metadata": {
    "tags": []
   },
   "outputs": [
    {
     "name": "stdout",
     "output_type": "stream",
     "text": [
      "Naive Bayes score:  0.9375\n"
     ]
    }
   ],
   "source": [
    "print(\"Naive Bayes score: \",model.score(X_test, y_test))"
   ]
  },
  {
   "cell_type": "code",
   "execution_count": 144,
   "id": "37ad0086-f8fa-4a2a-8b06-8762d2d58bc0",
   "metadata": {
    "tags": []
   },
   "outputs": [
    {
     "data": {
      "text/html": [
       "<div>\n",
       "<style scoped>\n",
       "    .dataframe tbody tr th:only-of-type {\n",
       "        vertical-align: middle;\n",
       "    }\n",
       "\n",
       "    .dataframe tbody tr th {\n",
       "        vertical-align: top;\n",
       "    }\n",
       "\n",
       "    .dataframe thead th {\n",
       "        text-align: right;\n",
       "    }\n",
       "</style>\n",
       "<table border=\"1\" class=\"dataframe\">\n",
       "  <thead>\n",
       "    <tr style=\"text-align: right;\">\n",
       "      <th></th>\n",
       "      <th>Temperature (K)</th>\n",
       "      <th>Luminosity(L/Lo)</th>\n",
       "      <th>Radius(R/Ro)</th>\n",
       "      <th>Absolute magnitude(Mv)</th>\n",
       "      <th>Star_color_en</th>\n",
       "      <th>Spectral_Class_en</th>\n",
       "    </tr>\n",
       "  </thead>\n",
       "  <tbody>\n",
       "    <tr>\n",
       "      <th>24</th>\n",
       "      <td>16500</td>\n",
       "      <td>0.01300</td>\n",
       "      <td>0.014</td>\n",
       "      <td>11.89</td>\n",
       "      <td>1</td>\n",
       "      <td>1</td>\n",
       "    </tr>\n",
       "    <tr>\n",
       "      <th>6</th>\n",
       "      <td>2637</td>\n",
       "      <td>0.00073</td>\n",
       "      <td>0.127</td>\n",
       "      <td>17.22</td>\n",
       "      <td>5</td>\n",
       "      <td>5</td>\n",
       "    </tr>\n",
       "    <tr>\n",
       "      <th>93</th>\n",
       "      <td>4980</td>\n",
       "      <td>0.35700</td>\n",
       "      <td>1.130</td>\n",
       "      <td>4.78</td>\n",
       "      <td>7</td>\n",
       "      <td>4</td>\n",
       "    </tr>\n",
       "    <tr>\n",
       "      <th>109</th>\n",
       "      <td>33421</td>\n",
       "      <td>352000.00000</td>\n",
       "      <td>67.000</td>\n",
       "      <td>-5.79</td>\n",
       "      <td>0</td>\n",
       "      <td>6</td>\n",
       "    </tr>\n",
       "    <tr>\n",
       "      <th>104</th>\n",
       "      <td>11096</td>\n",
       "      <td>112000.00000</td>\n",
       "      <td>12.000</td>\n",
       "      <td>-5.91</td>\n",
       "      <td>0</td>\n",
       "      <td>6</td>\n",
       "    </tr>\n",
       "  </tbody>\n",
       "</table>\n",
       "</div>"
      ],
      "text/plain": [
       "     Temperature (K)  Luminosity(L/Lo)  Radius(R/Ro)  Absolute magnitude(Mv)  \\\n",
       "24             16500           0.01300         0.014                   11.89   \n",
       "6               2637           0.00073         0.127                   17.22   \n",
       "93              4980           0.35700         1.130                    4.78   \n",
       "109            33421      352000.00000        67.000                   -5.79   \n",
       "104            11096      112000.00000        12.000                   -5.91   \n",
       "\n",
       "     Star_color_en  Spectral_Class_en  \n",
       "24               1                  1  \n",
       "6                5                  5  \n",
       "93               7                  4  \n",
       "109              0                  6  \n",
       "104              0                  6  "
      ]
     },
     "execution_count": 144,
     "metadata": {},
     "output_type": "execute_result"
    }
   ],
   "source": [
    "X_shuffled.head(5)"
   ]
  },
  {
   "cell_type": "markdown",
   "id": "505a997e-5556-45c4-9b32-6558dc185a28",
   "metadata": {},
   "source": [
    "Equal Width Binning (Catagorical)"
   ]
  },
  {
   "cell_type": "code",
   "execution_count": 145,
   "id": "8d1291e4-95c2-40f0-b909-b3d4f56afad3",
   "metadata": {
    "tags": []
   },
   "outputs": [
    {
     "name": "stdout",
     "output_type": "stream",
     "text": [
      "Bin Width:  3844.161\n",
      "[ 1900.939  5745.1    9551.2   13357.3   17163.4   20969.5   24775.6\n",
      " 28581.7   32387.8   36193.9   40000.   ]\n",
      "\n",
      "Bin Width:  85791.41999191999\n",
      "[-8.49419920e+02  8.49420001e+04  1.69884000e+05  2.54826000e+05\n",
      "  3.39768000e+05  4.24710000e+05  5.09652000e+05  5.94594000e+05\n",
      "  6.79536000e+05  7.64478000e+05  8.49420000e+05]\n",
      "\n",
      "Bin Width:  196.7976516\n",
      "[-1.94009160e+00  1.94857560e+02  3.89706720e+02  5.84555880e+02\n",
      "  7.79405040e+02  9.74254200e+02  1.16910336e+03  1.36395252e+03\n",
      "  1.55880168e+03  1.75365084e+03  1.94850000e+03]\n",
      "\n",
      "Bin Width:  3.2299799999999994\n",
      "[-11.95198  -8.722    -5.524    -2.326     0.872     4.07      7.268\n",
      "  10.466    13.664    16.862    20.06   ]\n",
      "\n"
     ]
    }
   ],
   "source": [
    "#Equal width Binning\n",
    "\n",
    "# Define continuous features to discretize\n",
    "continuous_features = [ 'Temperature (K)', 'Luminosity(L/Lo)', 'Radius(R/Ro)', 'Absolute magnitude(Mv)']\n",
    "X_shuffled2=X_shuffled.copy()\n",
    "# Number of desired bins\n",
    "num_bins = 10\n",
    "\n",
    "# Apply equal width binning to each continuous feature\n",
    "for feature in continuous_features:\n",
    "    # bin_width = (X_shuffled2[feature].max() - X_shuffled2[feature].min()) / num_bins\n",
    "    # bins = np.arange(X_shuffled2[feature].min(), X_shuffled2[feature].max() + bin_width, bin_width)\n",
    "    # X_shuffled2[feature + '_bins'] = pd.cut(X_shuffled2[feature], bins=bins, labels=False)\n",
    "    \n",
    "    X_shuffled2[feature + '_bins'], bins = pd.cut(X_shuffled2[feature], bins=num_bins, labels=False, retbins= True)\n",
    "    # print(f\"Bins for {feature} feature \\nBin width: {bin_width}\\nBins are:\")\n",
    "    # print(bins)\n",
    "    # print(\"\")\n",
    "    print(\"Bin Width: \", bins[1] - bins[0])\n",
    "    print(bins)\n",
    "    print(\"\")\n",
    "\n",
    "# Drop the original continuous features from the dataset\n",
    "X_shuffled2.drop(continuous_features, axis=1, inplace=True)"
   ]
  },
  {
   "cell_type": "code",
   "execution_count": 146,
   "id": "c32dfa8e-219d-4935-a5d5-69bf7f2294d0",
   "metadata": {
    "tags": []
   },
   "outputs": [
    {
     "data": {
      "text/html": [
       "<div>\n",
       "<style scoped>\n",
       "    .dataframe tbody tr th:only-of-type {\n",
       "        vertical-align: middle;\n",
       "    }\n",
       "\n",
       "    .dataframe tbody tr th {\n",
       "        vertical-align: top;\n",
       "    }\n",
       "\n",
       "    .dataframe thead th {\n",
       "        text-align: right;\n",
       "    }\n",
       "</style>\n",
       "<table border=\"1\" class=\"dataframe\">\n",
       "  <thead>\n",
       "    <tr style=\"text-align: right;\">\n",
       "      <th></th>\n",
       "      <th>Star_color_en</th>\n",
       "      <th>Spectral_Class_en</th>\n",
       "      <th>Temperature (K)_bins</th>\n",
       "      <th>Luminosity(L/Lo)_bins</th>\n",
       "      <th>Radius(R/Ro)_bins</th>\n",
       "      <th>Absolute magnitude(Mv)_bins</th>\n",
       "    </tr>\n",
       "  </thead>\n",
       "  <tbody>\n",
       "    <tr>\n",
       "      <th>24</th>\n",
       "      <td>1</td>\n",
       "      <td>1</td>\n",
       "      <td>3</td>\n",
       "      <td>0</td>\n",
       "      <td>0</td>\n",
       "      <td>7</td>\n",
       "    </tr>\n",
       "    <tr>\n",
       "      <th>6</th>\n",
       "      <td>5</td>\n",
       "      <td>5</td>\n",
       "      <td>0</td>\n",
       "      <td>0</td>\n",
       "      <td>0</td>\n",
       "      <td>9</td>\n",
       "    </tr>\n",
       "    <tr>\n",
       "      <th>93</th>\n",
       "      <td>7</td>\n",
       "      <td>4</td>\n",
       "      <td>0</td>\n",
       "      <td>0</td>\n",
       "      <td>0</td>\n",
       "      <td>5</td>\n",
       "    </tr>\n",
       "    <tr>\n",
       "      <th>109</th>\n",
       "      <td>0</td>\n",
       "      <td>6</td>\n",
       "      <td>8</td>\n",
       "      <td>4</td>\n",
       "      <td>0</td>\n",
       "      <td>1</td>\n",
       "    </tr>\n",
       "    <tr>\n",
       "      <th>104</th>\n",
       "      <td>0</td>\n",
       "      <td>6</td>\n",
       "      <td>2</td>\n",
       "      <td>1</td>\n",
       "      <td>0</td>\n",
       "      <td>1</td>\n",
       "    </tr>\n",
       "    <tr>\n",
       "      <th>...</th>\n",
       "      <td>...</td>\n",
       "      <td>...</td>\n",
       "      <td>...</td>\n",
       "      <td>...</td>\n",
       "      <td>...</td>\n",
       "      <td>...</td>\n",
       "    </tr>\n",
       "    <tr>\n",
       "      <th>106</th>\n",
       "      <td>0</td>\n",
       "      <td>6</td>\n",
       "      <td>5</td>\n",
       "      <td>4</td>\n",
       "      <td>0</td>\n",
       "      <td>1</td>\n",
       "    </tr>\n",
       "    <tr>\n",
       "      <th>14</th>\n",
       "      <td>5</td>\n",
       "      <td>5</td>\n",
       "      <td>0</td>\n",
       "      <td>0</td>\n",
       "      <td>0</td>\n",
       "      <td>7</td>\n",
       "    </tr>\n",
       "    <tr>\n",
       "      <th>92</th>\n",
       "      <td>7</td>\n",
       "      <td>4</td>\n",
       "      <td>0</td>\n",
       "      <td>0</td>\n",
       "      <td>0</td>\n",
       "      <td>5</td>\n",
       "    </tr>\n",
       "    <tr>\n",
       "      <th>179</th>\n",
       "      <td>1</td>\n",
       "      <td>1</td>\n",
       "      <td>5</td>\n",
       "      <td>2</td>\n",
       "      <td>5</td>\n",
       "      <td>1</td>\n",
       "    </tr>\n",
       "    <tr>\n",
       "      <th>102</th>\n",
       "      <td>0</td>\n",
       "      <td>6</td>\n",
       "      <td>5</td>\n",
       "      <td>1</td>\n",
       "      <td>0</td>\n",
       "      <td>1</td>\n",
       "    </tr>\n",
       "  </tbody>\n",
       "</table>\n",
       "<p>240 rows × 6 columns</p>\n",
       "</div>"
      ],
      "text/plain": [
       "     Star_color_en  Spectral_Class_en  Temperature (K)_bins  \\\n",
       "24               1                  1                     3   \n",
       "6                5                  5                     0   \n",
       "93               7                  4                     0   \n",
       "109              0                  6                     8   \n",
       "104              0                  6                     2   \n",
       "..             ...                ...                   ...   \n",
       "106              0                  6                     5   \n",
       "14               5                  5                     0   \n",
       "92               7                  4                     0   \n",
       "179              1                  1                     5   \n",
       "102              0                  6                     5   \n",
       "\n",
       "     Luminosity(L/Lo)_bins  Radius(R/Ro)_bins  Absolute magnitude(Mv)_bins  \n",
       "24                       0                  0                            7  \n",
       "6                        0                  0                            9  \n",
       "93                       0                  0                            5  \n",
       "109                      4                  0                            1  \n",
       "104                      1                  0                            1  \n",
       "..                     ...                ...                          ...  \n",
       "106                      4                  0                            1  \n",
       "14                       0                  0                            7  \n",
       "92                       0                  0                            5  \n",
       "179                      2                  5                            1  \n",
       "102                      1                  0                            1  \n",
       "\n",
       "[240 rows x 6 columns]"
      ]
     },
     "execution_count": 146,
     "metadata": {},
     "output_type": "execute_result"
    }
   ],
   "source": [
    "X_shuffled2"
   ]
  },
  {
   "cell_type": "code",
   "execution_count": 147,
   "id": "5cb8b669-78c8-4b6c-bb71-2e515d14e708",
   "metadata": {
    "tags": []
   },
   "outputs": [
    {
     "data": {
      "text/html": [
       "<div>\n",
       "<style scoped>\n",
       "    .dataframe tbody tr th:only-of-type {\n",
       "        vertical-align: middle;\n",
       "    }\n",
       "\n",
       "    .dataframe tbody tr th {\n",
       "        vertical-align: top;\n",
       "    }\n",
       "\n",
       "    .dataframe thead th {\n",
       "        text-align: right;\n",
       "    }\n",
       "</style>\n",
       "<table border=\"1\" class=\"dataframe\">\n",
       "  <thead>\n",
       "    <tr style=\"text-align: right;\">\n",
       "      <th></th>\n",
       "      <th>Star_color_en</th>\n",
       "      <th>Spectral_Class_en</th>\n",
       "      <th>Temperature (K)_bins</th>\n",
       "      <th>Luminosity(L/Lo)_bins</th>\n",
       "      <th>Radius(R/Ro)_bins</th>\n",
       "      <th>Absolute magnitude(Mv)_bins</th>\n",
       "    </tr>\n",
       "  </thead>\n",
       "  <tbody>\n",
       "    <tr>\n",
       "      <th>count</th>\n",
       "      <td>240.000000</td>\n",
       "      <td>240.000000</td>\n",
       "      <td>240.000000</td>\n",
       "      <td>240.000000</td>\n",
       "      <td>240.000000</td>\n",
       "      <td>240.000000</td>\n",
       "    </tr>\n",
       "    <tr>\n",
       "      <th>mean</th>\n",
       "      <td>3.337500</td>\n",
       "      <td>3.758333</td>\n",
       "      <td>1.804167</td>\n",
       "      <td>1.079167</td>\n",
       "      <td>1.066667</td>\n",
       "      <td>4.616667</td>\n",
       "    </tr>\n",
       "    <tr>\n",
       "      <th>std</th>\n",
       "      <td>2.544715</td>\n",
       "      <td>2.090007</td>\n",
       "      <td>2.468035</td>\n",
       "      <td>1.918306</td>\n",
       "      <td>2.450287</td>\n",
       "      <td>3.332817</td>\n",
       "    </tr>\n",
       "    <tr>\n",
       "      <th>min</th>\n",
       "      <td>0.000000</td>\n",
       "      <td>0.000000</td>\n",
       "      <td>0.000000</td>\n",
       "      <td>0.000000</td>\n",
       "      <td>0.000000</td>\n",
       "      <td>0.000000</td>\n",
       "    </tr>\n",
       "    <tr>\n",
       "      <th>25%</th>\n",
       "      <td>1.000000</td>\n",
       "      <td>1.000000</td>\n",
       "      <td>0.000000</td>\n",
       "      <td>0.000000</td>\n",
       "      <td>0.000000</td>\n",
       "      <td>1.000000</td>\n",
       "    </tr>\n",
       "    <tr>\n",
       "      <th>50%</th>\n",
       "      <td>5.000000</td>\n",
       "      <td>5.000000</td>\n",
       "      <td>1.000000</td>\n",
       "      <td>0.000000</td>\n",
       "      <td>0.000000</td>\n",
       "      <td>5.500000</td>\n",
       "    </tr>\n",
       "    <tr>\n",
       "      <th>75%</th>\n",
       "      <td>5.000000</td>\n",
       "      <td>5.000000</td>\n",
       "      <td>3.000000</td>\n",
       "      <td>2.000000</td>\n",
       "      <td>0.000000</td>\n",
       "      <td>8.000000</td>\n",
       "    </tr>\n",
       "    <tr>\n",
       "      <th>max</th>\n",
       "      <td>8.000000</td>\n",
       "      <td>6.000000</td>\n",
       "      <td>9.000000</td>\n",
       "      <td>9.000000</td>\n",
       "      <td>9.000000</td>\n",
       "      <td>9.000000</td>\n",
       "    </tr>\n",
       "  </tbody>\n",
       "</table>\n",
       "</div>"
      ],
      "text/plain": [
       "       Star_color_en  Spectral_Class_en  Temperature (K)_bins  \\\n",
       "count     240.000000         240.000000            240.000000   \n",
       "mean        3.337500           3.758333              1.804167   \n",
       "std         2.544715           2.090007              2.468035   \n",
       "min         0.000000           0.000000              0.000000   \n",
       "25%         1.000000           1.000000              0.000000   \n",
       "50%         5.000000           5.000000              1.000000   \n",
       "75%         5.000000           5.000000              3.000000   \n",
       "max         8.000000           6.000000              9.000000   \n",
       "\n",
       "       Luminosity(L/Lo)_bins  Radius(R/Ro)_bins  Absolute magnitude(Mv)_bins  \n",
       "count             240.000000         240.000000                   240.000000  \n",
       "mean                1.079167           1.066667                     4.616667  \n",
       "std                 1.918306           2.450287                     3.332817  \n",
       "min                 0.000000           0.000000                     0.000000  \n",
       "25%                 0.000000           0.000000                     1.000000  \n",
       "50%                 0.000000           0.000000                     5.500000  \n",
       "75%                 2.000000           0.000000                     8.000000  \n",
       "max                 9.000000           9.000000                     9.000000  "
      ]
     },
     "execution_count": 147,
     "metadata": {},
     "output_type": "execute_result"
    }
   ],
   "source": [
    "X_shuffled2.describe()"
   ]
  },
  {
   "cell_type": "code",
   "execution_count": 148,
   "id": "2beea360-1644-4849-8e9b-dbf39a84a479",
   "metadata": {
    "tags": []
   },
   "outputs": [
    {
     "data": {
      "text/plain": [
       "Star_color_en                  False\n",
       "Spectral_Class_en              False\n",
       "Temperature (K)_bins           False\n",
       "Luminosity(L/Lo)_bins          False\n",
       "Radius(R/Ro)_bins              False\n",
       "Absolute magnitude(Mv)_bins    False\n",
       "dtype: bool"
      ]
     },
     "execution_count": 148,
     "metadata": {},
     "output_type": "execute_result"
    }
   ],
   "source": [
    "X_shuffled2.isnull().any()"
   ]
  },
  {
   "cell_type": "code",
   "execution_count": 149,
   "id": "73e9829a-24d5-46ae-89ac-45dde4a95566",
   "metadata": {
    "tags": []
   },
   "outputs": [
    {
     "data": {
      "text/plain": [
       "count    240.000000\n",
       "mean       2.500000\n",
       "std        1.711394\n",
       "min        0.000000\n",
       "25%        1.000000\n",
       "50%        2.500000\n",
       "75%        4.000000\n",
       "max        5.000000\n",
       "Name: Star type, dtype: float64"
      ]
     },
     "execution_count": 149,
     "metadata": {},
     "output_type": "execute_result"
    }
   ],
   "source": [
    "y_shuffled.describe()"
   ]
  },
  {
   "cell_type": "code",
   "execution_count": 150,
   "id": "38655855-75a2-4532-a1c1-9b4beeb4ba9b",
   "metadata": {
    "tags": []
   },
   "outputs": [
    {
     "data": {
      "text/html": [
       "<style>#sk-container-id-3 {color: black;background-color: white;}#sk-container-id-3 pre{padding: 0;}#sk-container-id-3 div.sk-toggleable {background-color: white;}#sk-container-id-3 label.sk-toggleable__label {cursor: pointer;display: block;width: 100%;margin-bottom: 0;padding: 0.3em;box-sizing: border-box;text-align: center;}#sk-container-id-3 label.sk-toggleable__label-arrow:before {content: \"▸\";float: left;margin-right: 0.25em;color: #696969;}#sk-container-id-3 label.sk-toggleable__label-arrow:hover:before {color: black;}#sk-container-id-3 div.sk-estimator:hover label.sk-toggleable__label-arrow:before {color: black;}#sk-container-id-3 div.sk-toggleable__content {max-height: 0;max-width: 0;overflow: hidden;text-align: left;background-color: #f0f8ff;}#sk-container-id-3 div.sk-toggleable__content pre {margin: 0.2em;color: black;border-radius: 0.25em;background-color: #f0f8ff;}#sk-container-id-3 input.sk-toggleable__control:checked~div.sk-toggleable__content {max-height: 200px;max-width: 100%;overflow: auto;}#sk-container-id-3 input.sk-toggleable__control:checked~label.sk-toggleable__label-arrow:before {content: \"▾\";}#sk-container-id-3 div.sk-estimator input.sk-toggleable__control:checked~label.sk-toggleable__label {background-color: #d4ebff;}#sk-container-id-3 div.sk-label input.sk-toggleable__control:checked~label.sk-toggleable__label {background-color: #d4ebff;}#sk-container-id-3 input.sk-hidden--visually {border: 0;clip: rect(1px 1px 1px 1px);clip: rect(1px, 1px, 1px, 1px);height: 1px;margin: -1px;overflow: hidden;padding: 0;position: absolute;width: 1px;}#sk-container-id-3 div.sk-estimator {font-family: monospace;background-color: #f0f8ff;border: 1px dotted black;border-radius: 0.25em;box-sizing: border-box;margin-bottom: 0.5em;}#sk-container-id-3 div.sk-estimator:hover {background-color: #d4ebff;}#sk-container-id-3 div.sk-parallel-item::after {content: \"\";width: 100%;border-bottom: 1px solid gray;flex-grow: 1;}#sk-container-id-3 div.sk-label:hover label.sk-toggleable__label {background-color: #d4ebff;}#sk-container-id-3 div.sk-serial::before {content: \"\";position: absolute;border-left: 1px solid gray;box-sizing: border-box;top: 0;bottom: 0;left: 50%;z-index: 0;}#sk-container-id-3 div.sk-serial {display: flex;flex-direction: column;align-items: center;background-color: white;padding-right: 0.2em;padding-left: 0.2em;position: relative;}#sk-container-id-3 div.sk-item {position: relative;z-index: 1;}#sk-container-id-3 div.sk-parallel {display: flex;align-items: stretch;justify-content: center;background-color: white;position: relative;}#sk-container-id-3 div.sk-item::before, #sk-container-id-3 div.sk-parallel-item::before {content: \"\";position: absolute;border-left: 1px solid gray;box-sizing: border-box;top: 0;bottom: 0;left: 50%;z-index: -1;}#sk-container-id-3 div.sk-parallel-item {display: flex;flex-direction: column;z-index: 1;position: relative;background-color: white;}#sk-container-id-3 div.sk-parallel-item:first-child::after {align-self: flex-end;width: 50%;}#sk-container-id-3 div.sk-parallel-item:last-child::after {align-self: flex-start;width: 50%;}#sk-container-id-3 div.sk-parallel-item:only-child::after {width: 0;}#sk-container-id-3 div.sk-dashed-wrapped {border: 1px dashed gray;margin: 0 0.4em 0.5em 0.4em;box-sizing: border-box;padding-bottom: 0.4em;background-color: white;}#sk-container-id-3 div.sk-label label {font-family: monospace;font-weight: bold;display: inline-block;line-height: 1.2em;}#sk-container-id-3 div.sk-label-container {text-align: center;}#sk-container-id-3 div.sk-container {/* jupyter's `normalize.less` sets `[hidden] { display: none; }` but bootstrap.min.css set `[hidden] { display: none !important; }` so we also need the `!important` here to be able to override the default hidden behavior on the sphinx rendered scikit-learn.org. See: https://github.com/scikit-learn/scikit-learn/issues/21755 */display: inline-block !important;position: relative;}#sk-container-id-3 div.sk-text-repr-fallback {display: none;}</style><div id=\"sk-container-id-3\" class=\"sk-top-container\"><div class=\"sk-text-repr-fallback\"><pre>CategoricalNB()</pre><b>In a Jupyter environment, please rerun this cell to show the HTML representation or trust the notebook. <br />On GitHub, the HTML representation is unable to render, please try loading this page with nbviewer.org.</b></div><div class=\"sk-container\" hidden><div class=\"sk-item\"><div class=\"sk-estimator sk-toggleable\"><input class=\"sk-toggleable__control sk-hidden--visually\" id=\"sk-estimator-id-3\" type=\"checkbox\" checked><label for=\"sk-estimator-id-3\" class=\"sk-toggleable__label sk-toggleable__label-arrow\">CategoricalNB</label><div class=\"sk-toggleable__content\"><pre>CategoricalNB()</pre></div></div></div></div></div>"
      ],
      "text/plain": [
       "CategoricalNB()"
      ]
     },
     "execution_count": 150,
     "metadata": {},
     "output_type": "execute_result"
    }
   ],
   "source": [
    "X_trainn, X_testn, y_trainn, y_testn = train_test_split(X_shuffled2, y_shuffled, test_size = 0.2, random_state = 0)\n",
    "\n",
    "model1 = CategoricalNB()\n",
    "model1.fit(X_trainn, y_trainn)"
   ]
  },
  {
   "cell_type": "code",
   "execution_count": 151,
   "id": "ee42456b-19b9-4696-9322-2a547f5bcfb3",
   "metadata": {
    "tags": []
   },
   "outputs": [],
   "source": [
    "prediction1 = model1.predict(X_testn)"
   ]
  },
  {
   "cell_type": "code",
   "execution_count": 152,
   "id": "1b0613b1-0a3d-4506-94cc-15333b3750b4",
   "metadata": {
    "tags": []
   },
   "outputs": [
    {
     "data": {
      "text/plain": [
       "array([1, 5, 5, 1, 0, 1, 3, 1, 2, 4, 0, 4, 2, 0, 1, 3, 1, 4, 3, 1, 2, 2,\n",
       "       4, 0, 5, 5, 1, 4, 5, 0, 2, 3, 2, 3, 0, 3, 1, 2, 4, 4, 2, 0, 2, 3,\n",
       "       1, 5, 4, 2], dtype=int64)"
      ]
     },
     "execution_count": 152,
     "metadata": {},
     "output_type": "execute_result"
    }
   ],
   "source": [
    "prediction1"
   ]
  },
  {
   "cell_type": "code",
   "execution_count": 153,
   "id": "ff23936e-61ef-4951-bf2f-54ed6b476342",
   "metadata": {
    "tags": []
   },
   "outputs": [
    {
     "data": {
      "text/plain": [
       "77     1\n",
       "111    5\n",
       "55     5\n",
       "75     1\n",
       "2      0\n",
       "74     1\n",
       "94     3\n",
       "130    1\n",
       "81     2\n",
       "107    4\n",
       "5      0\n",
       "169    4\n",
       "208    2\n",
       "181    0\n",
       "71     1\n",
       "32     3\n",
       "131    1\n",
       "100    4\n",
       "151    3\n",
       "9      0\n",
       "141    2\n",
       "89     2\n",
       "42     4\n",
       "61     0\n",
       "172    5\n",
       "235    5\n",
       "189    0\n",
       "41     4\n",
       "114    5\n",
       "184    0\n",
       "209    2\n",
       "156    3\n",
       "23     2\n",
       "155    3\n",
       "64     0\n",
       "158    3\n",
       "44     4\n",
       "80     2\n",
       "101    4\n",
       "161    4\n",
       "200    2\n",
       "66     0\n",
       "149    2\n",
       "152    3\n",
       "132    1\n",
       "230    5\n",
       "215    3\n",
       "86     2\n",
       "Name: Star type, dtype: int64"
      ]
     },
     "execution_count": 153,
     "metadata": {},
     "output_type": "execute_result"
    }
   ],
   "source": [
    "y_testn"
   ]
  },
  {
   "cell_type": "code",
   "execution_count": 154,
   "id": "ce9cdbde-d6ef-483b-b8e6-2f7be5c2d5f2",
   "metadata": {
    "tags": []
   },
   "outputs": [
    {
     "data": {
      "text/plain": [
       "array([[ 7,  0,  0,  0,  0,  0],\n",
       "       [ 2,  7,  0,  0,  1,  0],\n",
       "       [ 0,  0, 10,  0,  0,  0],\n",
       "       [ 0,  0,  0,  7,  0,  0],\n",
       "       [ 0,  0,  0,  1,  7,  0],\n",
       "       [ 0,  0,  0,  0,  0,  6]], dtype=int64)"
      ]
     },
     "execution_count": 154,
     "metadata": {},
     "output_type": "execute_result"
    }
   ],
   "source": [
    "cm = confusion_matrix(prediction1, y_testn)\n",
    "cm"
   ]
  },
  {
   "cell_type": "code",
   "execution_count": 156,
   "id": "f8390c84-eb99-42e9-a8b2-b6ea231a1503",
   "metadata": {
    "tags": []
   },
   "outputs": [
    {
     "data": {
      "image/png": "[encoded data removed]",
      "text/plain": [
       "<Figure size 640x480 with 2 Axes>"
      ]
     },
     "metadata": {},
     "output_type": "display_data"
    }
   ],
   "source": [
    "sns.heatmap(cm, annot=True, fmt='', cmap='Blues',xticklabels = ['0','1','2','3','4','5'],yticklabels = ['0','1','2','3','4','5'] )\n",
    "\n",
    "# Add labels, title, and adjust layout\n",
    "plt.xlabel('Predicted')\n",
    "plt.ylabel('True')\n",
    "plt.title('Confusion Matrix - Equal Width Binning')\n",
    "plt.tight_layout()\n",
    "plt.savefig('13.png')\n",
    "\n",
    "# Display the heatmap\n",
    "plt.show()"
   ]
  },
  {
   "cell_type": "code",
   "execution_count": 71,
   "id": "9c2c70c1-9bf7-43a7-98bc-8f4846419014",
   "metadata": {
    "tags": []
   },
   "outputs": [
    {
     "name": "stdout",
     "output_type": "stream",
     "text": [
      "Categorical Naive Bayes score(Equal Width Binning):  0.9166666666666666\n"
     ]
    }
   ],
   "source": [
    "print(\"Categorical Naive Bayes score(Equal Width Binning): \",model1.score(X_testn, y_testn))"
   ]
  },
  {
   "cell_type": "code",
   "execution_count": 72,
   "id": "97f0810b-c339-4d43-9488-82027215c582",
   "metadata": {
    "tags": []
   },
   "outputs": [
    {
     "name": "stdout",
     "output_type": "stream",
     "text": [
      "              precision    recall  f1-score   support\n",
      "\n",
      "           0     1.0000    0.7778    0.8750         9\n",
      "           1     0.7000    1.0000    0.8235         7\n",
      "           2     1.0000    1.0000    1.0000        10\n",
      "           3     1.0000    0.8750    0.9333         8\n",
      "           4     0.8750    0.8750    0.8750         8\n",
      "           5     1.0000    1.0000    1.0000         6\n",
      "\n",
      "    accuracy                         0.9167        48\n",
      "   macro avg     0.9292    0.9213    0.9178        48\n",
      "weighted avg     0.9354    0.9167    0.9189        48\n",
      "\n"
     ]
    }
   ],
   "source": [
    "report1 = classification_report(y_testn, prediction1, digits=4)\n",
    "print(report1)"
   ]
  },
  {
   "cell_type": "markdown",
   "id": "b76ccf89-3fbe-4de5-b4fd-b29d1ddb2c77",
   "metadata": {},
   "source": [
    "Equal Frequency Binning (Catagorical)"
   ]
  },
  {
   "cell_type": "code",
   "execution_count": 157,
   "id": "8fffb9f9-219b-41d8-86b9-91f22842731d",
   "metadata": {
    "tags": []
   },
   "outputs": [
    {
     "name": "stdout",
     "output_type": "stream",
     "text": [
      "Bin Width:  996.0\n",
      "[ 1939.   2935.   3223.6  3477.7  3608.8  5776.   9269.  12985.8 18058.\n",
      " 24667.  40000. ]\n",
      "\n",
      "Bin Width:  0.0002580000000000001\n",
      "[8.00000e-05 3.38000e-04 6.70000e-04 1.10000e-03 2.82000e-03 7.05000e-02\n",
      " 1.10960e+03 1.46500e+05 2.25624e+05 3.33268e+05 8.49420e+05]\n",
      "\n",
      "Bin Width:  0.0026\n",
      "[8.4000e-03 1.1000e-02 9.1740e-02 1.2450e-01 3.0060e-01 7.6250e-01\n",
      " 6.0032e+00 2.4300e+01 8.3000e+01 1.3159e+03 1.9485e+03]\n",
      "\n",
      "Bin Width:  2.7200000000000006\n",
      "[-11.92    -9.2     -6.94    -5.9065  -2.4      8.313   11.7     12.876\n",
      "  14.358   16.962   20.06  ]\n",
      "\n"
     ]
    }
   ],
   "source": [
    "#####Equal Frequency Binning\n",
    "\n",
    "X_shuffled3=X_shuffled.copy()\n",
    "# Define continuous features to discretize\n",
    "continuous_features = [ 'Temperature (K)', 'Luminosity(L/Lo)', 'Radius(R/Ro)', 'Absolute magnitude(Mv)']\n",
    "\n",
    "# Number of desired bins\n",
    "num_bins = 10\n",
    "\n",
    "# Create a new DataFrame to store the binned features\n",
    "data_binned = X_shuffled3.copy()\n",
    "\n",
    "# Apply equal frequency binning to each continuous feature\n",
    "for feature in continuous_features:\n",
    "    # Calculate the bin edges based on quantiles\n",
    "    data_binned[feature], bins = pd.qcut(X_shuffled3[feature], q=num_bins, labels=False, retbins=True, duplicates='drop')\n",
    "    print(\"Bin Width: \", bins[1] - bins[0])\n",
    "    print(bins)\n",
    "    print(\"\")\n",
    "\n"
   ]
  },
  {
   "cell_type": "code",
   "execution_count": 158,
   "id": "675fc8e3-9beb-402a-8564-0046fa43b069",
   "metadata": {
    "tags": []
   },
   "outputs": [
    {
     "data": {
      "text/plain": [
       "Temperature (K)           False\n",
       "Luminosity(L/Lo)          False\n",
       "Radius(R/Ro)              False\n",
       "Absolute magnitude(Mv)    False\n",
       "Star_color_en             False\n",
       "Spectral_Class_en         False\n",
       "dtype: bool"
      ]
     },
     "execution_count": 158,
     "metadata": {},
     "output_type": "execute_result"
    }
   ],
   "source": [
    "data_binned.isna().any()"
   ]
  },
  {
   "cell_type": "code",
   "execution_count": 159,
   "id": "fe24da0f-ef20-4f20-a6b7-96923d6d591d",
   "metadata": {
    "tags": []
   },
   "outputs": [
    {
     "data": {
      "text/html": [
       "<div>\n",
       "<style scoped>\n",
       "    .dataframe tbody tr th:only-of-type {\n",
       "        vertical-align: middle;\n",
       "    }\n",
       "\n",
       "    .dataframe tbody tr th {\n",
       "        vertical-align: top;\n",
       "    }\n",
       "\n",
       "    .dataframe thead th {\n",
       "        text-align: right;\n",
       "    }\n",
       "</style>\n",
       "<table border=\"1\" class=\"dataframe\">\n",
       "  <thead>\n",
       "    <tr style=\"text-align: right;\">\n",
       "      <th></th>\n",
       "      <th>Temperature (K)</th>\n",
       "      <th>Luminosity(L/Lo)</th>\n",
       "      <th>Radius(R/Ro)</th>\n",
       "      <th>Absolute magnitude(Mv)</th>\n",
       "      <th>Star_color_en</th>\n",
       "      <th>Spectral_Class_en</th>\n",
       "    </tr>\n",
       "  </thead>\n",
       "  <tbody>\n",
       "    <tr>\n",
       "      <th>24</th>\n",
       "      <td>7</td>\n",
       "      <td>4</td>\n",
       "      <td>1</td>\n",
       "      <td>6</td>\n",
       "      <td>1</td>\n",
       "      <td>1</td>\n",
       "    </tr>\n",
       "    <tr>\n",
       "      <th>6</th>\n",
       "      <td>0</td>\n",
       "      <td>2</td>\n",
       "      <td>3</td>\n",
       "      <td>9</td>\n",
       "      <td>5</td>\n",
       "      <td>5</td>\n",
       "    </tr>\n",
       "    <tr>\n",
       "      <th>93</th>\n",
       "      <td>4</td>\n",
       "      <td>5</td>\n",
       "      <td>5</td>\n",
       "      <td>4</td>\n",
       "      <td>7</td>\n",
       "      <td>4</td>\n",
       "    </tr>\n",
       "    <tr>\n",
       "      <th>109</th>\n",
       "      <td>9</td>\n",
       "      <td>9</td>\n",
       "      <td>7</td>\n",
       "      <td>3</td>\n",
       "      <td>0</td>\n",
       "      <td>6</td>\n",
       "    </tr>\n",
       "    <tr>\n",
       "      <th>104</th>\n",
       "      <td>6</td>\n",
       "      <td>6</td>\n",
       "      <td>6</td>\n",
       "      <td>2</td>\n",
       "      <td>0</td>\n",
       "      <td>6</td>\n",
       "    </tr>\n",
       "    <tr>\n",
       "      <th>...</th>\n",
       "      <td>...</td>\n",
       "      <td>...</td>\n",
       "      <td>...</td>\n",
       "      <td>...</td>\n",
       "      <td>...</td>\n",
       "      <td>...</td>\n",
       "    </tr>\n",
       "    <tr>\n",
       "      <th>106</th>\n",
       "      <td>8</td>\n",
       "      <td>9</td>\n",
       "      <td>7</td>\n",
       "      <td>3</td>\n",
       "      <td>0</td>\n",
       "      <td>6</td>\n",
       "    </tr>\n",
       "    <tr>\n",
       "      <th>14</th>\n",
       "      <td>0</td>\n",
       "      <td>1</td>\n",
       "      <td>3</td>\n",
       "      <td>6</td>\n",
       "      <td>5</td>\n",
       "      <td>5</td>\n",
       "    </tr>\n",
       "    <tr>\n",
       "      <th>92</th>\n",
       "      <td>4</td>\n",
       "      <td>5</td>\n",
       "      <td>5</td>\n",
       "      <td>4</td>\n",
       "      <td>7</td>\n",
       "      <td>4</td>\n",
       "    </tr>\n",
       "    <tr>\n",
       "      <th>179</th>\n",
       "      <td>8</td>\n",
       "      <td>8</td>\n",
       "      <td>8</td>\n",
       "      <td>1</td>\n",
       "      <td>1</td>\n",
       "      <td>1</td>\n",
       "    </tr>\n",
       "    <tr>\n",
       "      <th>102</th>\n",
       "      <td>8</td>\n",
       "      <td>6</td>\n",
       "      <td>7</td>\n",
       "      <td>3</td>\n",
       "      <td>0</td>\n",
       "      <td>6</td>\n",
       "    </tr>\n",
       "  </tbody>\n",
       "</table>\n",
       "<p>240 rows × 6 columns</p>\n",
       "</div>"
      ],
      "text/plain": [
       "     Temperature (K)  Luminosity(L/Lo)  Radius(R/Ro)  Absolute magnitude(Mv)  \\\n",
       "24                 7                 4             1                       6   \n",
       "6                  0                 2             3                       9   \n",
       "93                 4                 5             5                       4   \n",
       "109                9                 9             7                       3   \n",
       "104                6                 6             6                       2   \n",
       "..               ...               ...           ...                     ...   \n",
       "106                8                 9             7                       3   \n",
       "14                 0                 1             3                       6   \n",
       "92                 4                 5             5                       4   \n",
       "179                8                 8             8                       1   \n",
       "102                8                 6             7                       3   \n",
       "\n",
       "     Star_color_en  Spectral_Class_en  \n",
       "24               1                  1  \n",
       "6                5                  5  \n",
       "93               7                  4  \n",
       "109              0                  6  \n",
       "104              0                  6  \n",
       "..             ...                ...  \n",
       "106              0                  6  \n",
       "14               5                  5  \n",
       "92               7                  4  \n",
       "179              1                  1  \n",
       "102              0                  6  \n",
       "\n",
       "[240 rows x 6 columns]"
      ]
     },
     "execution_count": 159,
     "metadata": {},
     "output_type": "execute_result"
    }
   ],
   "source": [
    "data_binned"
   ]
  },
  {
   "cell_type": "code",
   "execution_count": 160,
   "id": "421b060a-4240-4f4c-ac32-097e220460f3",
   "metadata": {
    "tags": []
   },
   "outputs": [],
   "source": [
    "X_shuffled3=data_binned.copy()"
   ]
  },
  {
   "cell_type": "code",
   "execution_count": 161,
   "id": "5029f764-a782-4135-9d3e-a9ef74015566",
   "metadata": {
    "tags": []
   },
   "outputs": [
    {
     "data": {
      "text/html": [
       "<style>#sk-container-id-4 {color: black;background-color: white;}#sk-container-id-4 pre{padding: 0;}#sk-container-id-4 div.sk-toggleable {background-color: white;}#sk-container-id-4 label.sk-toggleable__label {cursor: pointer;display: block;width: 100%;margin-bottom: 0;padding: 0.3em;box-sizing: border-box;text-align: center;}#sk-container-id-4 label.sk-toggleable__label-arrow:before {content: \"▸\";float: left;margin-right: 0.25em;color: #696969;}#sk-container-id-4 label.sk-toggleable__label-arrow:hover:before {color: black;}#sk-container-id-4 div.sk-estimator:hover label.sk-toggleable__label-arrow:before {color: black;}#sk-container-id-4 div.sk-toggleable__content {max-height: 0;max-width: 0;overflow: hidden;text-align: left;background-color: #f0f8ff;}#sk-container-id-4 div.sk-toggleable__content pre {margin: 0.2em;color: black;border-radius: 0.25em;background-color: #f0f8ff;}#sk-container-id-4 input.sk-toggleable__control:checked~div.sk-toggleable__content {max-height: 200px;max-width: 100%;overflow: auto;}#sk-container-id-4 input.sk-toggleable__control:checked~label.sk-toggleable__label-arrow:before {content: \"▾\";}#sk-container-id-4 div.sk-estimator input.sk-toggleable__control:checked~label.sk-toggleable__label {background-color: #d4ebff;}#sk-container-id-4 div.sk-label input.sk-toggleable__control:checked~label.sk-toggleable__label {background-color: #d4ebff;}#sk-container-id-4 input.sk-hidden--visually {border: 0;clip: rect(1px 1px 1px 1px);clip: rect(1px, 1px, 1px, 1px);height: 1px;margin: -1px;overflow: hidden;padding: 0;position: absolute;width: 1px;}#sk-container-id-4 div.sk-estimator {font-family: monospace;background-color: #f0f8ff;border: 1px dotted black;border-radius: 0.25em;box-sizing: border-box;margin-bottom: 0.5em;}#sk-container-id-4 div.sk-estimator:hover {background-color: #d4ebff;}#sk-container-id-4 div.sk-parallel-item::after {content: \"\";width: 100%;border-bottom: 1px solid gray;flex-grow: 1;}#sk-container-id-4 div.sk-label:hover label.sk-toggleable__label {background-color: #d4ebff;}#sk-container-id-4 div.sk-serial::before {content: \"\";position: absolute;border-left: 1px solid gray;box-sizing: border-box;top: 0;bottom: 0;left: 50%;z-index: 0;}#sk-container-id-4 div.sk-serial {display: flex;flex-direction: column;align-items: center;background-color: white;padding-right: 0.2em;padding-left: 0.2em;position: relative;}#sk-container-id-4 div.sk-item {position: relative;z-index: 1;}#sk-container-id-4 div.sk-parallel {display: flex;align-items: stretch;justify-content: center;background-color: white;position: relative;}#sk-container-id-4 div.sk-item::before, #sk-container-id-4 div.sk-parallel-item::before {content: \"\";position: absolute;border-left: 1px solid gray;box-sizing: border-box;top: 0;bottom: 0;left: 50%;z-index: -1;}#sk-container-id-4 div.sk-parallel-item {display: flex;flex-direction: column;z-index: 1;position: relative;background-color: white;}#sk-container-id-4 div.sk-parallel-item:first-child::after {align-self: flex-end;width: 50%;}#sk-container-id-4 div.sk-parallel-item:last-child::after {align-self: flex-start;width: 50%;}#sk-container-id-4 div.sk-parallel-item:only-child::after {width: 0;}#sk-container-id-4 div.sk-dashed-wrapped {border: 1px dashed gray;margin: 0 0.4em 0.5em 0.4em;box-sizing: border-box;padding-bottom: 0.4em;background-color: white;}#sk-container-id-4 div.sk-label label {font-family: monospace;font-weight: bold;display: inline-block;line-height: 1.2em;}#sk-container-id-4 div.sk-label-container {text-align: center;}#sk-container-id-4 div.sk-container {/* jupyter's `normalize.less` sets `[hidden] { display: none; }` but bootstrap.min.css set `[hidden] { display: none !important; }` so we also need the `!important` here to be able to override the default hidden behavior on the sphinx rendered scikit-learn.org. See: https://github.com/scikit-learn/scikit-learn/issues/21755 */display: inline-block !important;position: relative;}#sk-container-id-4 div.sk-text-repr-fallback {display: none;}</style><div id=\"sk-container-id-4\" class=\"sk-top-container\"><div class=\"sk-text-repr-fallback\"><pre>CategoricalNB()</pre><b>In a Jupyter environment, please rerun this cell to show the HTML representation or trust the notebook. <br />On GitHub, the HTML representation is unable to render, please try loading this page with nbviewer.org.</b></div><div class=\"sk-container\" hidden><div class=\"sk-item\"><div class=\"sk-estimator sk-toggleable\"><input class=\"sk-toggleable__control sk-hidden--visually\" id=\"sk-estimator-id-4\" type=\"checkbox\" checked><label for=\"sk-estimator-id-4\" class=\"sk-toggleable__label sk-toggleable__label-arrow\">CategoricalNB</label><div class=\"sk-toggleable__content\"><pre>CategoricalNB()</pre></div></div></div></div></div>"
      ],
      "text/plain": [
       "CategoricalNB()"
      ]
     },
     "execution_count": 161,
     "metadata": {},
     "output_type": "execute_result"
    }
   ],
   "source": [
    "nX_train, nX_test, ny_train, ny_test = train_test_split(X_shuffled3, y_shuffled, test_size = 0.2, random_state = 0)\n",
    "\n",
    "model2 = CategoricalNB()\n",
    "model2.fit(nX_train, ny_train)"
   ]
  },
  {
   "cell_type": "code",
   "execution_count": 162,
   "id": "c42341e8-5bd6-4ebb-bfb9-92eba85cf955",
   "metadata": {
    "tags": []
   },
   "outputs": [],
   "source": [
    "prediction2 = model2.predict(nX_test)"
   ]
  },
  {
   "cell_type": "code",
   "execution_count": 163,
   "id": "0cfb1925-6cf3-454d-8342-e6f4d6dac890",
   "metadata": {
    "tags": []
   },
   "outputs": [
    {
     "data": {
      "text/plain": [
       "array([1, 5, 5, 1, 0, 1, 3, 1, 2, 4, 0, 4, 2, 0, 1, 3, 1, 4, 3, 0, 2, 2,\n",
       "       5, 0, 5, 5, 0, 4, 5, 0, 2, 3, 2, 3, 0, 3, 4, 2, 4, 4, 2, 0, 2, 3,\n",
       "       1, 5, 4, 2], dtype=int64)"
      ]
     },
     "execution_count": 163,
     "metadata": {},
     "output_type": "execute_result"
    }
   ],
   "source": [
    "prediction2"
   ]
  },
  {
   "cell_type": "code",
   "execution_count": 164,
   "id": "e93e78d7-dd37-4df7-b46a-0ac6badf9e4e",
   "metadata": {
    "tags": []
   },
   "outputs": [
    {
     "data": {
      "text/plain": [
       "77     1\n",
       "111    5\n",
       "55     5\n",
       "75     1\n",
       "2      0\n",
       "74     1\n",
       "94     3\n",
       "130    1\n",
       "81     2\n",
       "107    4\n",
       "5      0\n",
       "169    4\n",
       "208    2\n",
       "181    0\n",
       "71     1\n",
       "32     3\n",
       "131    1\n",
       "100    4\n",
       "151    3\n",
       "9      0\n",
       "141    2\n",
       "89     2\n",
       "42     4\n",
       "61     0\n",
       "172    5\n",
       "235    5\n",
       "189    0\n",
       "41     4\n",
       "114    5\n",
       "184    0\n",
       "209    2\n",
       "156    3\n",
       "23     2\n",
       "155    3\n",
       "64     0\n",
       "158    3\n",
       "44     4\n",
       "80     2\n",
       "101    4\n",
       "161    4\n",
       "200    2\n",
       "66     0\n",
       "149    2\n",
       "152    3\n",
       "132    1\n",
       "230    5\n",
       "215    3\n",
       "86     2\n",
       "Name: Star type, dtype: int64"
      ]
     },
     "execution_count": 164,
     "metadata": {},
     "output_type": "execute_result"
    }
   ],
   "source": [
    "ny_test"
   ]
  },
  {
   "cell_type": "code",
   "execution_count": 165,
   "id": "52bc344c-3d4b-446a-8987-690c6fb230c2",
   "metadata": {
    "tags": []
   },
   "outputs": [
    {
     "data": {
      "text/plain": [
       "array([[ 9,  0,  0,  0,  0,  0],\n",
       "       [ 0,  7,  0,  0,  0,  0],\n",
       "       [ 0,  0, 10,  0,  0,  0],\n",
       "       [ 0,  0,  0,  7,  0,  0],\n",
       "       [ 0,  0,  0,  1,  7,  0],\n",
       "       [ 0,  0,  0,  0,  1,  6]], dtype=int64)"
      ]
     },
     "execution_count": 165,
     "metadata": {},
     "output_type": "execute_result"
    }
   ],
   "source": [
    "cm = confusion_matrix(prediction2, ny_test)\n",
    "cm"
   ]
  },
  {
   "cell_type": "code",
   "execution_count": 166,
   "id": "fc4f27c8-0c4b-416a-b3be-1ed30a0e832a",
   "metadata": {
    "tags": []
   },
   "outputs": [
    {
     "data": {
      "image/png": "[encoded data removed]",
      "text/plain": [
       "<Figure size 640x480 with 2 Axes>"
      ]
     },
     "metadata": {},
     "output_type": "display_data"
    }
   ],
   "source": [
    "sns.heatmap(cm, annot=True, fmt='', cmap='Blues',xticklabels = ['0','1','2','3','4','5'],yticklabels = ['0','1','2','3','4','5'] )\n",
    "\n",
    "# Add labels, title, and adjust layout\n",
    "plt.xlabel('Predicted')\n",
    "plt.ylabel('True')\n",
    "plt.title('Confusion Matrix - Equal Frequency Binning')\n",
    "plt.tight_layout()\n",
    "plt.savefig('15.png')\n",
    "\n",
    "# Display the heatmap\n",
    "plt.show()"
   ]
  },
  {
   "cell_type": "code",
   "execution_count": 167,
   "id": "ba5e34c3-cbad-4196-a48e-cc4f6b449373",
   "metadata": {
    "tags": []
   },
   "outputs": [
    {
     "name": "stdout",
     "output_type": "stream",
     "text": [
      "Categorical Naive Bayes score(Equal Frequency Binning):  0.9583333333333334\n"
     ]
    }
   ],
   "source": [
    "print(\"Categorical Naive Bayes score(Equal Frequency Binning): \",model2.score(nX_test, ny_test))"
   ]
  },
  {
   "cell_type": "code",
   "execution_count": 168,
   "id": "a17f5cc0-e97f-47c5-a835-9a74601e8ccd",
   "metadata": {
    "tags": []
   },
   "outputs": [
    {
     "name": "stdout",
     "output_type": "stream",
     "text": [
      "              precision    recall  f1-score   support\n",
      "\n",
      "           0     1.0000    1.0000    1.0000         9\n",
      "           1     1.0000    1.0000    1.0000         7\n",
      "           2     1.0000    1.0000    1.0000        10\n",
      "           3     1.0000    0.8750    0.9333         8\n",
      "           4     0.8750    0.8750    0.8750         8\n",
      "           5     0.8571    1.0000    0.9231         6\n",
      "\n",
      "    accuracy                         0.9583        48\n",
      "   macro avg     0.9554    0.9583    0.9552        48\n",
      "weighted avg     0.9613    0.9583    0.9584        48\n",
      "\n"
     ]
    }
   ],
   "source": [
    "report2 = classification_report(ny_test, prediction2, digits=4)\n",
    "print(report2)"
   ]
  },
  {
   "cell_type": "markdown",
   "id": "b5c17e76-d745-4f84-bd54-42fde9c564f5",
   "metadata": {},
   "source": [
    "HYBRID NAIVE BAYES"
   ]
  },
  {
   "cell_type": "code",
   "execution_count": 169,
   "id": "5a45418c-0cec-4dd4-8d70-ea7fd8f19cce",
   "metadata": {
    "tags": []
   },
   "outputs": [
    {
     "data": {
      "text/html": [
       "<div>\n",
       "<style scoped>\n",
       "    .dataframe tbody tr th:only-of-type {\n",
       "        vertical-align: middle;\n",
       "    }\n",
       "\n",
       "    .dataframe tbody tr th {\n",
       "        vertical-align: top;\n",
       "    }\n",
       "\n",
       "    .dataframe thead th {\n",
       "        text-align: right;\n",
       "    }\n",
       "</style>\n",
       "<table border=\"1\" class=\"dataframe\">\n",
       "  <thead>\n",
       "    <tr style=\"text-align: right;\">\n",
       "      <th></th>\n",
       "      <th>Temperature (K)</th>\n",
       "      <th>Luminosity(L/Lo)</th>\n",
       "      <th>Radius(R/Ro)</th>\n",
       "      <th>Absolute magnitude(Mv)</th>\n",
       "      <th>Star_color_en</th>\n",
       "      <th>Spectral_Class_en</th>\n",
       "    </tr>\n",
       "  </thead>\n",
       "  <tbody>\n",
       "    <tr>\n",
       "      <th>24</th>\n",
       "      <td>16500</td>\n",
       "      <td>0.01300</td>\n",
       "      <td>0.014</td>\n",
       "      <td>11.89</td>\n",
       "      <td>1</td>\n",
       "      <td>1</td>\n",
       "    </tr>\n",
       "    <tr>\n",
       "      <th>6</th>\n",
       "      <td>2637</td>\n",
       "      <td>0.00073</td>\n",
       "      <td>0.127</td>\n",
       "      <td>17.22</td>\n",
       "      <td>5</td>\n",
       "      <td>5</td>\n",
       "    </tr>\n",
       "    <tr>\n",
       "      <th>93</th>\n",
       "      <td>4980</td>\n",
       "      <td>0.35700</td>\n",
       "      <td>1.130</td>\n",
       "      <td>4.78</td>\n",
       "      <td>7</td>\n",
       "      <td>4</td>\n",
       "    </tr>\n",
       "    <tr>\n",
       "      <th>109</th>\n",
       "      <td>33421</td>\n",
       "      <td>352000.00000</td>\n",
       "      <td>67.000</td>\n",
       "      <td>-5.79</td>\n",
       "      <td>0</td>\n",
       "      <td>6</td>\n",
       "    </tr>\n",
       "    <tr>\n",
       "      <th>104</th>\n",
       "      <td>11096</td>\n",
       "      <td>112000.00000</td>\n",
       "      <td>12.000</td>\n",
       "      <td>-5.91</td>\n",
       "      <td>0</td>\n",
       "      <td>6</td>\n",
       "    </tr>\n",
       "  </tbody>\n",
       "</table>\n",
       "</div>"
      ],
      "text/plain": [
       "     Temperature (K)  Luminosity(L/Lo)  Radius(R/Ro)  Absolute magnitude(Mv)  \\\n",
       "24             16500           0.01300         0.014                   11.89   \n",
       "6               2637           0.00073         0.127                   17.22   \n",
       "93              4980           0.35700         1.130                    4.78   \n",
       "109            33421      352000.00000        67.000                   -5.79   \n",
       "104            11096      112000.00000        12.000                   -5.91   \n",
       "\n",
       "     Star_color_en  Spectral_Class_en  \n",
       "24               1                  1  \n",
       "6                5                  5  \n",
       "93               7                  4  \n",
       "109              0                  6  \n",
       "104              0                  6  "
      ]
     },
     "execution_count": 169,
     "metadata": {},
     "output_type": "execute_result"
    }
   ],
   "source": [
    "X_shuffled.head(5)"
   ]
  },
  {
   "cell_type": "code",
   "execution_count": 170,
   "id": "89ba096a-4a38-40d8-ad9b-87930c5754d2",
   "metadata": {
    "tags": []
   },
   "outputs": [],
   "source": [
    "X = X_shuffled.copy()"
   ]
  },
  {
   "cell_type": "code",
   "execution_count": 171,
   "id": "4d838ca3-a2d3-4e59-8bf3-9d1eb2bfd515",
   "metadata": {
    "tags": []
   },
   "outputs": [
    {
     "data": {
      "text/html": [
       "<div>\n",
       "<style scoped>\n",
       "    .dataframe tbody tr th:only-of-type {\n",
       "        vertical-align: middle;\n",
       "    }\n",
       "\n",
       "    .dataframe tbody tr th {\n",
       "        vertical-align: top;\n",
       "    }\n",
       "\n",
       "    .dataframe thead th {\n",
       "        text-align: right;\n",
       "    }\n",
       "</style>\n",
       "<table border=\"1\" class=\"dataframe\">\n",
       "  <thead>\n",
       "    <tr style=\"text-align: right;\">\n",
       "      <th></th>\n",
       "      <th>Temperature (K)</th>\n",
       "      <th>Luminosity(L/Lo)</th>\n",
       "      <th>Radius(R/Ro)</th>\n",
       "      <th>Absolute magnitude(Mv)</th>\n",
       "      <th>Star_color_en</th>\n",
       "      <th>Spectral_Class_en</th>\n",
       "    </tr>\n",
       "  </thead>\n",
       "  <tbody>\n",
       "    <tr>\n",
       "      <th>24</th>\n",
       "      <td>16500</td>\n",
       "      <td>0.01300</td>\n",
       "      <td>0.014</td>\n",
       "      <td>11.890</td>\n",
       "      <td>1</td>\n",
       "      <td>1</td>\n",
       "    </tr>\n",
       "    <tr>\n",
       "      <th>6</th>\n",
       "      <td>2637</td>\n",
       "      <td>0.00073</td>\n",
       "      <td>0.127</td>\n",
       "      <td>17.220</td>\n",
       "      <td>5</td>\n",
       "      <td>5</td>\n",
       "    </tr>\n",
       "    <tr>\n",
       "      <th>93</th>\n",
       "      <td>4980</td>\n",
       "      <td>0.35700</td>\n",
       "      <td>1.130</td>\n",
       "      <td>4.780</td>\n",
       "      <td>7</td>\n",
       "      <td>4</td>\n",
       "    </tr>\n",
       "    <tr>\n",
       "      <th>109</th>\n",
       "      <td>33421</td>\n",
       "      <td>352000.00000</td>\n",
       "      <td>67.000</td>\n",
       "      <td>-5.790</td>\n",
       "      <td>0</td>\n",
       "      <td>6</td>\n",
       "    </tr>\n",
       "    <tr>\n",
       "      <th>104</th>\n",
       "      <td>11096</td>\n",
       "      <td>112000.00000</td>\n",
       "      <td>12.000</td>\n",
       "      <td>-5.910</td>\n",
       "      <td>0</td>\n",
       "      <td>6</td>\n",
       "    </tr>\n",
       "    <tr>\n",
       "      <th>...</th>\n",
       "      <td>...</td>\n",
       "      <td>...</td>\n",
       "      <td>...</td>\n",
       "      <td>...</td>\n",
       "      <td>...</td>\n",
       "      <td>...</td>\n",
       "    </tr>\n",
       "    <tr>\n",
       "      <th>106</th>\n",
       "      <td>24630</td>\n",
       "      <td>363000.00000</td>\n",
       "      <td>63.000</td>\n",
       "      <td>-5.830</td>\n",
       "      <td>0</td>\n",
       "      <td>6</td>\n",
       "    </tr>\n",
       "    <tr>\n",
       "      <th>14</th>\n",
       "      <td>2650</td>\n",
       "      <td>0.00060</td>\n",
       "      <td>0.140</td>\n",
       "      <td>11.782</td>\n",
       "      <td>5</td>\n",
       "      <td>5</td>\n",
       "    </tr>\n",
       "    <tr>\n",
       "      <th>92</th>\n",
       "      <td>4077</td>\n",
       "      <td>0.08500</td>\n",
       "      <td>0.795</td>\n",
       "      <td>6.228</td>\n",
       "      <td>7</td>\n",
       "      <td>4</td>\n",
       "    </tr>\n",
       "    <tr>\n",
       "      <th>179</th>\n",
       "      <td>24490</td>\n",
       "      <td>248490.00000</td>\n",
       "      <td>1134.500</td>\n",
       "      <td>-8.240</td>\n",
       "      <td>1</td>\n",
       "      <td>1</td>\n",
       "    </tr>\n",
       "    <tr>\n",
       "      <th>102</th>\n",
       "      <td>23000</td>\n",
       "      <td>127000.00000</td>\n",
       "      <td>36.000</td>\n",
       "      <td>-5.760</td>\n",
       "      <td>0</td>\n",
       "      <td>6</td>\n",
       "    </tr>\n",
       "  </tbody>\n",
       "</table>\n",
       "<p>240 rows × 6 columns</p>\n",
       "</div>"
      ],
      "text/plain": [
       "     Temperature (K)  Luminosity(L/Lo)  Radius(R/Ro)  Absolute magnitude(Mv)  \\\n",
       "24             16500           0.01300         0.014                  11.890   \n",
       "6               2637           0.00073         0.127                  17.220   \n",
       "93              4980           0.35700         1.130                   4.780   \n",
       "109            33421      352000.00000        67.000                  -5.790   \n",
       "104            11096      112000.00000        12.000                  -5.910   \n",
       "..               ...               ...           ...                     ...   \n",
       "106            24630      363000.00000        63.000                  -5.830   \n",
       "14              2650           0.00060         0.140                  11.782   \n",
       "92              4077           0.08500         0.795                   6.228   \n",
       "179            24490      248490.00000      1134.500                  -8.240   \n",
       "102            23000      127000.00000        36.000                  -5.760   \n",
       "\n",
       "     Star_color_en  Spectral_Class_en  \n",
       "24               1                  1  \n",
       "6                5                  5  \n",
       "93               7                  4  \n",
       "109              0                  6  \n",
       "104              0                  6  \n",
       "..             ...                ...  \n",
       "106              0                  6  \n",
       "14               5                  5  \n",
       "92               7                  4  \n",
       "179              1                  1  \n",
       "102              0                  6  \n",
       "\n",
       "[240 rows x 6 columns]"
      ]
     },
     "execution_count": 171,
     "metadata": {},
     "output_type": "execute_result"
    }
   ],
   "source": [
    "X"
   ]
  },
  {
   "cell_type": "code",
   "execution_count": 172,
   "id": "4be6ce6e-84e3-4753-a30b-ccec2734c138",
   "metadata": {
    "tags": []
   },
   "outputs": [
    {
     "data": {
      "text/plain": [
       "24     2\n",
       "6      0\n",
       "93     3\n",
       "109    4\n",
       "104    4\n",
       "      ..\n",
       "106    4\n",
       "14     1\n",
       "92     3\n",
       "179    5\n",
       "102    4\n",
       "Name: Star type, Length: 240, dtype: int64"
      ]
     },
     "execution_count": 172,
     "metadata": {},
     "output_type": "execute_result"
    }
   ],
   "source": [
    "y = y_shuffled.copy()\n",
    "y"
   ]
  },
  {
   "cell_type": "code",
   "execution_count": 173,
   "id": "6efa9196-ccae-457b-a589-e4cb6361d4d0",
   "metadata": {
    "tags": []
   },
   "outputs": [
    {
     "data": {
      "text/plain": [
       "Index(['Temperature (K)', 'Luminosity(L/Lo)', 'Radius(R/Ro)',\n",
       "       'Absolute magnitude(Mv)', 'Star_color_en', 'Spectral_Class_en'],\n",
       "      dtype='object')"
      ]
     },
     "execution_count": 173,
     "metadata": {},
     "output_type": "execute_result"
    }
   ],
   "source": [
    "X.columns"
   ]
  },
  {
   "cell_type": "code",
   "execution_count": 174,
   "id": "f9fd965d-e6fb-42ab-a088-487cf7a44420",
   "metadata": {
    "tags": []
   },
   "outputs": [],
   "source": [
    "cata_features = ['Star_color_en', 'Spectral_Class_en']\n",
    "cont_features = ['Temperature (K)', 'Luminosity(L/Lo)', 'Radius(R/Ro)','Absolute magnitude(Mv)']"
   ]
  },
  {
   "cell_type": "code",
   "execution_count": 175,
   "id": "eb4d83ec-2986-4952-a046-f5de07a236e1",
   "metadata": {
    "tags": []
   },
   "outputs": [
    {
     "name": "stdout",
     "output_type": "stream",
     "text": [
      "Hybrid Naive Bayes Accuracy: 0.9375\n"
     ]
    }
   ],
   "source": [
    "# Split the data into training and testing sets\n",
    "X_train, X_test, y_train, y_test = train_test_split(X, y, test_size=0.2, random_state=0)\n",
    "\n",
    "# Train Gaussian Naive Bayes for continuous features\n",
    "gnb = GaussianNB()\n",
    "gnb.fit(X_train[cont_features], y_train)\n",
    "\n",
    "# Train Categorical Naive Bayes for categorical features\n",
    "cnb = CategoricalNB()\n",
    "cnb.fit(X_train[cata_features], y_train)\n",
    "\n",
    "# Predict probabilities for each class\n",
    "gnb_probs = gnb.predict_proba(X_test[cont_features])\n",
    "cnb_probs = cnb.predict_proba(X_test[cata_features])\n",
    "\n",
    "# Combine predictions using weighted probabilities or other methods\n",
    "weight_continuous = 4 / 6  # Since there are 7 continuous features\n",
    "weight_categorical = 2 / 6  # Since there are 2 categorical features\n",
    "\n",
    "hybrid_probs = weight_continuous * gnb_probs + weight_categorical * cnb_probs\n",
    "\n",
    "# Make the final prediction by selecting the class with the highest probability\n",
    "hybrid_predictions = np.argmax(hybrid_probs, axis=1)\n",
    "\n",
    "# Evaluate the model\n",
    "from sklearn.metrics import accuracy_score\n",
    "# Calculate the accuracy of the Hybrid Naive Bayes model\n",
    "accuracy = accuracy_score(y_test, hybrid_predictions)\n",
    "print(\"Hybrid Naive Bayes Accuracy: {:.4f}\".format(accuracy))\n"
   ]
  },
  {
   "cell_type": "code",
   "execution_count": null,
   "id": "395d9b19-8dde-44e8-a7e6-829282d388b9",
   "metadata": {},
   "outputs": [],
   "source": []
  }
 ],
 "metadata": {
  "kernelspec": {
   "display_name": "Python 3 (ipykernel)",
   "language": "python",
   "name": "python3"
  },
  "language_info": {
   "codemirror_mode": {
    "name": "ipython",
    "version": 3
   },
   "file_extension": ".py",
   "mimetype": "text/x-python",
   "name": "python",
   "nbconvert_exporter": "python",
   "pygments_lexer": "ipython3",
   "version": "3.10.9"
  }
 },
 "nbformat": 4,
 "nbformat_minor": 5
}
